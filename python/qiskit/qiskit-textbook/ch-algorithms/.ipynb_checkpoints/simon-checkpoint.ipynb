{
 "cells": [
  {
   "cell_type": "markdown",
   "metadata": {
    "tags": [
     "remove_cell"
    ]
   },
   "source": [
    "# Simon's Algorithm"
   ]
  },
  {
   "cell_type": "markdown",
   "metadata": {},
   "source": [
    "In this section, we first introduce the Simon problem, and classical and quantum algorithms to solve it. We then implement the quantum algorithm using Qiskit, and run on a simulator and device."
   ]
  },
  {
   "cell_type": "markdown",
   "metadata": {},
   "source": [
    "## 1. Introduction <a id='introduction'></a>\n",
    "\n",
    "Simon's algorithm, first introduced in Reference [1], was the first quantum algorithm to show an exponential speed-up versus the best classical algorithm in solving a specific problem. This inspired the quantum algorithms based on the quantum Fourier transform, which is used in the most famous quantum algorithm: Shor's factoring algorithm.\n",
    "\n",
    "### 1a. Simon's Problem <a id='problem'> </a>\n",
    "\n",
    "We are given an unknown blackbox function $f$, which is guaranteed to be either one-to-one ($1:1$) or two-to-one ($2:1$), where one-to-one and two-to-one functions have the following properties:\n",
    "\n",
    "- **one-to-one**: maps exactly one unique output for every input. An example with a function that takes 4 inputs is:\n",
    "\n",
    "$$f(1) \\rightarrow 1, \\quad f(2) \\rightarrow 2, \\quad f(3) \\rightarrow 3, \\quad f(4) \\rightarrow 4$$\n",
    "\n",
    "- **two-to-one**: maps exactly two inputs to every unique output. An example with a function that takes 4 inputs is:\n",
    "\n",
    "$$f(1) \\rightarrow 1, \\quad f(2) \\rightarrow 2, \\quad f(3) \\rightarrow 1, \\quad f(4) \\rightarrow 2$$\n",
    "\n",
    "This two-to-one mapping is according to a hidden bitstring, $b$, where:\n",
    "\n",
    "$$\n",
    "\\textrm{given }x_1,x_2: \\quad f(x_1) = f(x_2) \\\\\n",
    "\\textrm{it is guaranteed }: \\quad x_1 \\oplus x_2 = b\n",
    "$$\n",
    "\n",
    "Given this blackbox $f$, how quickly can we determine if $f$ is one-to-one or two-to-one? Then, if $f$ turns out to be two-to-one, how quickly can we determine $b$? As it turns out, both cases boil down to the same problem of finding $b$, where a bitstring of $b={000...}$ represents the one-to-one $f$."
   ]
  },
  {
   "cell_type": "markdown",
   "metadata": {},
   "source": [
    "### 1b. Simon's Algorithm <a id='algorithm'> </a>\n",
    "\n",
    "#### Classical Solution\n",
    "\n",
    "Classically, if we want to know what $b$ is with 100% certainty for a given $f$, we have to check up to $2^{n−1}+1$  inputs, where n is the number of bits in the input. This means checking just over half of all the possible inputs until we find two cases of the same output. Much like the Deutsch-Jozsa problem, if we get lucky, we could solve the problem with our first two tries. But if we happen to get an $f$ that is one-to-one, or get _really_ unlucky with an $f$ that’s two-to-one, then we’re stuck with the full $2^{n−1}+1$.\n",
    "There are known algorithms that have a lower bound of $\\Omega(2^{n/2})$ (see Reference 2 below), but generally speaking the complexity grows exponentially with n."
   ]
  },
  {
   "cell_type": "markdown",
   "metadata": {},
   "source": [
    "#### Quantum Solution\n",
    "\n",
    "The quantum circuit that implements Simon's algorithm is shown below.\n",
    "\n",
    "![image1](images/simon_steps.png)\n",
    "\n",
    "Where the query function, $\\text{Q}_f$ acts on two quantum registers as:\n",
    "\n",
    "\n",
    "$$ \\lvert x \\rangle \\lvert a \\rangle \\rightarrow \\lvert x \\rangle \\lvert a \\oplus f(x) \\rangle $$\n",
    "\n",
    "In the specific case that the second register is in the state $|0\\rangle = |00\\dots0\\rangle$ we have:\n",
    "\n",
    "$$ \\lvert x \\rangle \\lvert 0 \\rangle \\rightarrow \\lvert x \\rangle \\lvert f(x) \\rangle $$\n",
    "\n",
    "The algorithm involves the following steps.\n",
    "\n",
    "1. Two $n$-qubit input registers are initialized to the zero state: \n",
    "\n",
    "   $$\\lvert \\psi_1 \\rangle = \\lvert 0 \\rangle^{\\otimes n} \\lvert 0 \\rangle^{\\otimes n} $$\n",
    "\n",
    "2. Apply a Hadamard transform to the first register:\n",
    "\n",
    "   $$\\lvert \\psi_2 \\rangle = \\frac{1}{\\sqrt{2^n}} \\sum_{x \\in \\{0,1\\}^{n} } \\lvert x \\rangle\\lvert 0 \\rangle^{\\otimes n}  $$\n",
    "\n",
    "3. Apply the query function $\\text{Q}_f$: \n",
    "    \n",
    "   $$ \\lvert \\psi_3 \\rangle = \\frac{1}{\\sqrt{2^n}} \\sum_{x \\in \\{0,1\\}^{n} } \\lvert x \\rangle \\lvert f(x) \\rangle $$\n",
    "\n",
    "4. Measure the second register. A certain value of $f(x)$ will be observed. Because of the setting of the problem, the observed value $f(x)$ could correspond to two possible inputs: $x$ and $y = x \\oplus b $. Therefore the first register becomes:\n",
    "\n",
    "   $$\\lvert \\psi_4 \\rangle = \\frac{1}{\\sqrt{2}}  \\left( \\lvert x \\rangle + \\lvert y \\rangle \\right)$$\n",
    "\n",
    "   where we omitted the second register since it has been measured. \n",
    "\n",
    "5. Apply Hadamard on the first register:\n",
    "\n",
    "   $$ \\lvert \\psi_5 \\rangle = \\frac{1}{\\sqrt{2^{n+1}}} \\sum_{z \\in \\{0,1\\}^{n} } \\left[  (-1)^{x \\cdot z} + (-1)^{y \\cdot z} \\right]  \\lvert z \\rangle  $$\n",
    "\n",
    "6. Measuring the first register will give an output only if:\n",
    "\n",
    "   $$ (-1)^{x \\cdot z} = (-1)^{y \\cdot z} $$\n",
    "   which means:\n",
    "   \n",
    "   $$\n",
    "   x \\cdot z = y \\cdot z \\\\\n",
    "   x \\cdot z = \\left( x \\oplus b \\right) \\cdot z \\\\\n",
    "   x \\cdot z = x \\cdot z \\oplus b \\cdot z \\\\\n",
    "   b \\cdot z = 0 \\text{ (mod 2)}\n",
    "   $$\n",
    "   \n",
    "   A string $z$ will be measured, whose inner product with $b = 0$. Thus, repeating the algorithm $\\approx n$ times, we will be able to obtain $n$ different values of $z$ and the following system of equation can be written:\n",
    "   \n",
    "   $$ \\begin{cases} b \\cdot z_1 = 0 \\\\ b \\cdot z_2 = 0 \\\\ \\quad \\vdots \\\\ b \\cdot z_n = 0 \\end{cases}$$\n",
    "   \n",
    "   From which $b$ can be determined, for example by Gaussian elimination.\n",
    "\n",
    "So, in this particular problem the quantum algorithm performs exponentially fewer steps than the classical one. Once again, it might be difficult to envision an application of this algorithm (although it inspired the most famous algorithm created by Shor) but it represents the first proof that there can be an exponential speed-up in solving a specific problem by using a quantum computer rather than a classical one."
   ]
  },
  {
   "cell_type": "markdown",
   "metadata": {},
   "source": [
    "## 2. Example  <a id='example'></a>\n",
    "\n",
    "Let's see the example of Simon's algorithm for 2 qubits with the secret string $b=11$, so that $f(x) = f(y)$ if $y = x \\oplus b$. The quantum circuit to solve the problem is:\n",
    "\n",
    "![image2](images/simon_example.png)\n",
    "\n",
    "1. Two $2$-qubit input registers are initialized to the zero state:\n",
    "   \n",
    "   $$\\lvert \\psi_1 \\rangle = \\lvert 0 0 \\rangle_1 \\lvert 0 0 \\rangle_2 $$\n",
    "\n",
    "2. Apply Hadamard gates to the qubits in the first register:\n",
    "   \n",
    "   $$\\lvert \\psi_2 \\rangle = \\frac{1}{2} \\left( \\lvert 0 0 \\rangle_1 + \\lvert 0 1 \\rangle_1 + \\lvert 1 0 \\rangle_1 + \\lvert 1 1 \\rangle_1 \\right) \\lvert 0 0 \\rangle_2 $$\n",
    "\n",
    "3. For the string $b=11$, the query function can be implemented as `$\\text{Q}_f = CX_{1_a 2_a}CX_{1_a 2_b}CX_{1_b 2_a}CX_{1_b 2_b}$` (as seen in the circuit diagram above):\n",
    "    \n",
    "   $$\n",
    "   \\begin{aligned}\n",
    "   \\lvert \\psi_3 \\rangle  = \\frac{1}{2} ( \\; \n",
    "     & \\lvert 0 0 \\rangle_1 \\; \\lvert 0\\oplus 0 \\oplus 0, & 0 \\oplus 0 \\oplus 0 \\rangle_2 &\\\\[5pt]\n",
    "   + & \\lvert 0 1 \\rangle_1 \\; \\lvert 0\\oplus 0 \\oplus 1, & 0 \\oplus 0 \\oplus 1 \\rangle_2 &\\\\[6pt]\n",
    "   + & \\lvert 1 0 \\rangle_1 \\; \\lvert 0\\oplus 1 \\oplus 0, & 0 \\oplus 1 \\oplus 0 \\rangle_2 &\\\\[6pt]\n",
    "   + & \\lvert 1 1 \\rangle_1 \\; \\lvert 0\\oplus 1 \\oplus 1, & 0 \\oplus 1 \\oplus 1 \\rangle_2 & \\; )\\\\\n",
    "   \\end{aligned}\n",
    "   $$\n",
    "  \n",
    "   Thus:    \n",
    "\n",
    "   $$ \n",
    "   \\begin{aligned} \n",
    "   \\lvert \\psi_3 \\rangle = \\frac{1}{2} ( \\quad\n",
    "   & \\lvert 0 0 \\rangle_1  \\lvert 0 0 \\rangle_2 & \\\\[6pt]\n",
    "   + & \\lvert 0 1 \\rangle_1 \\lvert 1  1 \\rangle_2 & \\\\[6pt]\n",
    "   + & \\lvert 1 0 \\rangle_1 \\lvert  1   1  \\rangle_2 & \\\\[6pt]\n",
    "   + & \\lvert 1 1 \\rangle_1 \\lvert 0 0 \\rangle_2 & \\; )\\\\\n",
    "   \\end{aligned}\n",
    "   $$    \n",
    "\n",
    "4. We measure the second register. With $50\\%$ probability we will see either $\\lvert  0   0  \\rangle_2$ or $\\lvert  1   1  \\rangle_2$. For the sake of the example, let us assume that we see $\\lvert  1   1  \\rangle_2$. The state of the system is then\n",
    "   $$ \\lvert \\psi_4 \\rangle = \\frac{1}{\\sqrt{2}}  \\left( \\lvert  0   1  \\rangle_1 + \\lvert  1   0  \\rangle_1 \\right)  $$\n",
    "   where we omitted the second register since it has been measured.\n",
    "    \n",
    "5. Apply Hadamard on the first register\n",
    "   $$ \\lvert \\psi_5 \\rangle = \\frac{1}{2\\sqrt{2}} \\left[ \\left( \\lvert 0 \\rangle + \\lvert 1 \\rangle \\right) \\otimes \\left( \\lvert 0 \\rangle - \\lvert 1 \\rangle \\right) + \\left( \\lvert 0 \\rangle - \\lvert 1 \\rangle \\right) \\otimes \\left( \\lvert 0 \\rangle + \\lvert 1 \\rangle \\right)  \\right] \\\\\n",
    "   =  \\frac{1}{2\\sqrt{2}} \\left[ \\lvert 0 0 \\rangle - \\lvert 0 1 \\rangle + \\lvert 1 0 \\rangle - \\lvert 1 1 \\rangle    + \\lvert 0 0 \\rangle + \\lvert 0 1 \\rangle - \\lvert 1 0 \\rangle - \\lvert 1 1 \\rangle \\right] \\\\\n",
    "   = \\frac{1}{\\sqrt{2}} \\left( \\lvert 0 0 \\rangle - \\lvert 1 1 \\rangle \\right)$$\n",
    "    \n",
    "6. Measuring the first register will give either $\\lvert 0 0 \\rangle$ or $\\lvert 1 1 \\rangle$ with equal probability. \n",
    "\n",
    "7. If we see $\\lvert 1 1 \\rangle$, then:   \n",
    "\n",
    "   $$ b \\cdot 11 = 0 $$\n",
    "\n",
    "   which tells us that $b \\neq 01$ or $10$, and the two remaining potential solutions are $b = 00$ or $b = 11$. Note that $b = 00$ will always be a trivial solution to our simultaneous equations. If we repeat steps 1-6 many times, we would only measure $|00\\rangle$ or $|11\\rangle$ as\n",
    "\n",
    "   $$ b \\cdot 11 = 0 $$\n",
    "   $$ b \\cdot 00 = 0 $$\n",
    "        \n",
    "   are the only equations that satisfy $b=11$. We can verify $b=11$ by picking a random input ($x_i$) and checking    $f(x_i) = f(x_i \\oplus b)$. For example:\n",
    "\n",
    "   $$ 01 \\oplus b = 10 $$\n",
    "   $$ f(01) = f(10) = 11$$"
   ]
  },
  {
   "cell_type": "markdown",
   "metadata": {},
   "source": [
    "## 3. Qiskit Implementation <a id='implementation'></a>\n",
    "\n",
    "We now implement Simon's algorithm for an example with $3$-qubits and $b=110$."
   ]
  },
  {
   "cell_type": "code",
   "execution_count": 2,
   "metadata": {
    "tags": [
     "thebelab-init"
    ]
   },
   "outputs": [],
   "source": [
    "# importing Qiskit\n",
    "from qiskit import QuantumCircuit\n",
    "\n",
    "# import basic plot tools\n",
    "from qiskit.visualization import plot_histogram\n",
    "from qiskit_textbook.tools import simon_oracle"
   ]
  },
  {
   "cell_type": "markdown",
   "metadata": {},
   "source": [
    "The function `simon_oracle` (imported above) creates a Simon oracle for the bitstring `b`. This is given without explanation, but we will discuss the method in [section 4](#oracle).\n",
    "\n",
    "In Qiskit, measurements are only allowed at the end of the quantum circuit. In the case of Simon's algorithm, we actually do not care about the output of the second register, and will only measure the first register."
   ]
  },
  {
   "cell_type": "code",
   "execution_count": 3,
   "metadata": {},
   "outputs": [
    {
     "data": {
      "text/html": [
       "<pre style=\"word-wrap: normal;white-space: pre;background: #fff0;line-height: 1.1;font-family: &quot;Courier New&quot;,Courier,monospace\">     ┌───┐ ░                           ░ ┌───┐┌─┐      \n",
       "q_0: ┤ H ├─░───■───────────────────────░─┤ H ├┤M├──────\n",
       "     ├───┤ ░   │                       ░ ├───┤└╥┘┌─┐   \n",
       "q_1: ┤ H ├─░───┼────■─────────■────■───░─┤ H ├─╫─┤M├───\n",
       "     ├───┤ ░   │    │         │    │   ░ ├───┤ ║ └╥┘┌─┐\n",
       "q_2: ┤ H ├─░───┼────┼────■────┼────┼───░─┤ H ├─╫──╫─┤M├\n",
       "     └───┘ ░ ┌─┴─┐  │    │    │    │   ░ └───┘ ║  ║ └╥┘\n",
       "q_3: ──────░─┤ X ├──┼────┼────┼────┼───░───────╫──╫──╫─\n",
       "           ░ └───┘┌─┴─┐  │  ┌─┴─┐  │   ░       ║  ║  ║ \n",
       "q_4: ──────░──────┤ X ├──┼──┤ X ├──┼───░───────╫──╫──╫─\n",
       "           ░      └───┘┌─┴─┐└───┘┌─┴─┐ ░       ║  ║  ║ \n",
       "q_5: ──────░───────────┤ X ├─────┤ X ├─░───────╫──╫──╫─\n",
       "           ░           └───┘     └───┘ ░       ║  ║  ║ \n",
       "c: 3/══════════════════════════════════════════╩══╩══╩═\n",
       "                                               0  1  2 </pre>"
      ],
      "text/plain": [
       "     ┌───┐ ░                           ░ ┌───┐┌─┐      \n",
       "q_0: ┤ H ├─░───■───────────────────────░─┤ H ├┤M├──────\n",
       "     ├───┤ ░   │                       ░ ├───┤└╥┘┌─┐   \n",
       "q_1: ┤ H ├─░───┼────■─────────■────■───░─┤ H ├─╫─┤M├───\n",
       "     ├───┤ ░   │    │         │    │   ░ ├───┤ ║ └╥┘┌─┐\n",
       "q_2: ┤ H ├─░───┼────┼────■────┼────┼───░─┤ H ├─╫──╫─┤M├\n",
       "     └───┘ ░ ┌─┴─┐  │    │    │    │   ░ └───┘ ║  ║ └╥┘\n",
       "q_3: ──────░─┤ X ├──┼────┼────┼────┼───░───────╫──╫──╫─\n",
       "           ░ └───┘┌─┴─┐  │  ┌─┴─┐  │   ░       ║  ║  ║ \n",
       "q_4: ──────░──────┤ X ├──┼──┤ X ├──┼───░───────╫──╫──╫─\n",
       "           ░      └───┘┌─┴─┐└───┘┌─┴─┐ ░       ║  ║  ║ \n",
       "q_5: ──────░───────────┤ X ├─────┤ X ├─░───────╫──╫──╫─\n",
       "           ░           └───┘     └───┘ ░       ║  ║  ║ \n",
       "c: 3/══════════════════════════════════════════╩══╩══╩═\n",
       "                                               0  1  2 "
      ]
     },
     "execution_count": 3,
     "metadata": {},
     "output_type": "execute_result"
    }
   ],
   "source": [
    "b = '110'\n",
    "\n",
    "n = len(b)\n",
    "simon_circuit = QuantumCircuit(n*2, n)\n",
    "\n",
    "# Apply Hadamard gates before querying the oracle\n",
    "simon_circuit.h(range(n))    \n",
    "    \n",
    "# Apply barrier for visual separation\n",
    "simon_circuit.barrier()\n",
    "\n",
    "simon_circuit = simon_circuit.compose(simon_oracle(b))\n",
    "\n",
    "# Apply barrier for visual separation\n",
    "simon_circuit.barrier()\n",
    "\n",
    "# Apply Hadamard gates to the input register\n",
    "simon_circuit.h(range(n))\n",
    "\n",
    "# Measure qubits\n",
    "simon_circuit.measure(range(n), range(n))\n",
    "simon_circuit.draw()"
   ]
  },
  {
   "cell_type": "markdown",
   "metadata": {},
   "source": [
    "### 3a. Experiment with Simulators  <a id='simulation'></a>\n",
    "\n",
    "We can run the above circuit on the simulator. "
   ]
  },
  {
   "cell_type": "code",
   "execution_count": 5,
   "metadata": {},
   "outputs": [
    {
     "name": "stdout",
     "output_type": "stream",
     "text": [
      "Executing Quantum Circuit With...\n",
      "6 Qubits And ...\n",
      "11 Gates\n",
      "Time Taken 0:00:00.065999\n"
     ]
    },
    {
     "data": {
      "image/png": "[encoded data removed]",
      "text/plain": [
       "<Figure size 640x480 with 1 Axes>"
      ]
     },
     "execution_count": 5,
     "metadata": {},
     "output_type": "execute_result"
    }
   ],
   "source": [
    "import sys\n",
    "sys.path.append('../../../')\n",
    "from AutomatskiKomencoQiskit import *\n",
    "\n",
    "# Run the Circuit using Automatski' Quantum Simulators and Quantum Computers\n",
    "# No need for transpiling with any transpiler\n",
    "backend = AutomatskiKomencoQiskit(host=\"103.212.120.18\", port=80)\n",
    "\n",
    "simon_circuit = simon_circuit.decompose().decompose()\n",
    "\n",
    "# Run the circuit and get results\n",
    "result_sim = backend.run(simon_circuit, repetitions=1000, topK=20)\n",
    "\n",
    "counts = result_sim.get_counts(None)\n",
    "plot_histogram(counts)"
   ]
  },
  {
   "cell_type": "markdown",
   "metadata": {},
   "source": [
    "Since we know $b$ already, we can verify these results do satisfy $b\\cdot z  = 0 \\pmod{2}$:"
   ]
  },
  {
   "cell_type": "code",
   "execution_count": 6,
   "metadata": {},
   "outputs": [
    {
     "name": "stdout",
     "output_type": "stream",
     "text": [
      "110.001 = 0 (mod 2)\n",
      "110.111 = 0 (mod 2)\n",
      "110.000 = 0 (mod 2)\n",
      "110.110 = 0 (mod 2)\n",
      "110.011 = 1 (mod 2)\n",
      "110.101 = 1 (mod 2)\n",
      "110.100 = 1 (mod 2)\n",
      "110.010 = 1 (mod 2)\n"
     ]
    }
   ],
   "source": [
    "# Calculate the dot product of the results\n",
    "def bdotz(b, z):\n",
    "    accum = 0\n",
    "    for i in range(len(b)):\n",
    "        accum += int(b[i]) * int(z[i])\n",
    "    return (accum % 2)\n",
    "\n",
    "for z in counts:\n",
    "    print( '{}.{} = {} (mod 2)'.format(b, z, bdotz(b,z)) )"
   ]
  },
  {
   "cell_type": "markdown",
   "metadata": {},
   "source": [
    "Using these results, we can recover the value of $b = 110$ by solving this set of simultaneous equations. For example, say we first measured `001`, this tells us:\n",
    "\n",
    "$$\n",
    "\\require{cancel}\n",
    "\\begin{aligned}\n",
    "b \\cdot 001 &= 0 \\\\\n",
    "(b_2 \\cdot 0) + (b_1 \\cdot 0) + (b_0 \\cdot 1) & = 0 \\\\\n",
    "(\\cancel{b_2 \\cdot 0}) + (\\cancel{b_1 \\cdot 0}) + (b_0 \\cdot 1) & = 0 \\\\\n",
    "b_0 & = 0\\\\\n",
    "\\end{aligned}\n",
    "$$\n",
    "\n",
    "If we next measured `111`, we have:\n",
    "\n",
    "$$\n",
    "\\require{cancel}\n",
    "\\begin{aligned}\n",
    "b \\cdot 111 &= 0 \\\\\n",
    "(b_2 \\cdot 1) + (b_1 \\cdot 1) + (\\cancel{0 \\cdot 1}) & = 0 \\\\\n",
    "(b_2 \\cdot 1) + (b_1 \\cdot 1) & = 0 \\\\\n",
    "\\end{aligned}\n",
    "$$\n",
    "\n",
    "Which tells us either:\n",
    "\n",
    "$$ b_2 = b_1 = 0, \\quad b = 000 $$\n",
    "\n",
    "or \n",
    "\n",
    "$$ b_2 = b_1 = 1, \\quad b = 110 $$\n",
    "\n",
    "Of which $b  = 110$ is the non-trivial solution to our simultaneous equations. We can solve these problems in general using [Gaussian elimination](https://mathworld.wolfram.com/GaussianElimination.html), which has a run time of $O(n^3)$."
   ]
  },
  {
   "cell_type": "markdown",
   "metadata": {},
   "source": [
    "### 3b. Experiment with Real Devices  <a id='device'></a>\n",
    "\n",
    "The circuit in [section 3a](#simulation) uses $2n = 6$ qubits, while at the time of writing many IBM Quantum devices only have 5 qubits. We will run the same code, but instead using $b=11$ as in the example in section 2, requiring only 4 qubits."
   ]
  },
  {
   "cell_type": "code",
   "execution_count": 7,
   "metadata": {},
   "outputs": [
    {
     "data": {
      "text/html": [
       "<pre style=\"word-wrap: normal;white-space: pre;background: #fff0;line-height: 1.1;font-family: &quot;Courier New&quot;,Courier,monospace\">     ┌───┐                         ┌───┐┌─┐\n",
       "q_0: ┤ H ├──■─────────■─────────■──┤ H ├┤M├\n",
       "     ├───┤  │         │  ┌───┐  │  └┬─┬┘└╥┘\n",
       "q_1: ┤ H ├──┼────■────┼──┤ H ├──┼───┤M├──╫─\n",
       "     └───┘┌─┴─┐  │  ┌─┴─┐└───┘  │   └╥┘  ║ \n",
       "q_2: ─────┤ X ├──┼──┤ X ├───────┼────╫───╫─\n",
       "          └───┘┌─┴─┐└───┘     ┌─┴─┐  ║   ║ \n",
       "q_3: ──────────┤ X ├──────────┤ X ├──╫───╫─\n",
       "               └───┘          └───┘  ║   ║ \n",
       "c: 2/════════════════════════════════╩═══╩═\n",
       "                                     1   0 </pre>"
      ],
      "text/plain": [
       "     ┌───┐                         ┌───┐┌─┐\n",
       "q_0: ┤ H ├──■─────────■─────────■──┤ H ├┤M├\n",
       "     ├───┤  │         │  ┌───┐  │  └┬─┬┘└╥┘\n",
       "q_1: ┤ H ├──┼────■────┼──┤ H ├──┼───┤M├──╫─\n",
       "     └───┘┌─┴─┐  │  ┌─┴─┐└───┘  │   └╥┘  ║ \n",
       "q_2: ─────┤ X ├──┼──┤ X ├───────┼────╫───╫─\n",
       "          └───┘┌─┴─┐└───┘     ┌─┴─┐  ║   ║ \n",
       "q_3: ──────────┤ X ├──────────┤ X ├──╫───╫─\n",
       "               └───┘          └───┘  ║   ║ \n",
       "c: 2/════════════════════════════════╩═══╩═\n",
       "                                     1   0 "
      ]
     },
     "execution_count": 7,
     "metadata": {},
     "output_type": "execute_result"
    }
   ],
   "source": [
    "b = '11'\n",
    "n = len(b)\n",
    "simon_circuit_2 = QuantumCircuit(n*2, n)\n",
    "\n",
    "# Apply Hadamard gates before querying the oracle\n",
    "simon_circuit_2.h(range(n))\n",
    "\n",
    "# Query oracle\n",
    "simon_circuit_2 = simon_circuit_2.compose(simon_oracle(b))\n",
    "\n",
    "# Apply Hadamard gates to the input register\n",
    "simon_circuit_2.h(range(n))\n",
    "\n",
    "# Measure qubits\n",
    "simon_circuit_2.measure(range(n), range(n))\n",
    "simon_circuit_2.draw()"
   ]
  },
  {
   "cell_type": "markdown",
   "metadata": {},
   "source": [
    "This circuit is slightly different to the circuit shown in [section 2](#example). The outputs are different, but the input collisions are the same, i.e. both have the property that $f(x) = f(x \\oplus 11)$."
   ]
  },
  {
   "cell_type": "code",
   "execution_count": 10,
   "metadata": {
    "tags": [
     "uses-hardware"
    ]
   },
   "outputs": [
    {
     "name": "stdout",
     "output_type": "stream",
     "text": [
      "Executing Quantum Circuit With...\n",
      "4 Qubits And ...\n",
      "8 Gates\n",
      "Time Taken 0:00:00.068000\n"
     ]
    },
    {
     "data": {
      "image/png": "[encoded data removed]",
      "text/plain": [
       "<Figure size 640x480 with 1 Axes>"
      ]
     },
     "execution_count": 10,
     "metadata": {},
     "output_type": "execute_result"
    }
   ],
   "source": [
    "simon_circuit_2 = simon_circuit_2.decompose().decompose()\n",
    "\n",
    "shots = 1024\n",
    "\n",
    "# Run the circuit and get results\n",
    "result_sim = backend.run(simon_circuit_2, repetitions=shots, topK=20)\n",
    "\n",
    "device_counts = result_sim.get_counts(None)\n",
    "plot_histogram(device_counts)"
   ]
  },
  {
   "cell_type": "code",
   "execution_count": 11,
   "metadata": {
    "tags": [
     "uses-hardware"
    ]
   },
   "outputs": [
    {
     "name": "stdout",
     "output_type": "stream",
     "text": [
      "b = 11\n",
      "11.00 = 0 (mod 2) (50.0%)\n",
      "11.11 = 0 (mod 2) (50.0%)\n",
      "11.01 = 1 (mod 2) (0.0%)\n",
      "11.10 = 1 (mod 2) (0.0%)\n"
     ]
    }
   ],
   "source": [
    "# Calculate the dot product of the results\n",
    "def bdotz(b, z):\n",
    "    accum = 0\n",
    "    for i in range(len(b)):\n",
    "        accum += int(b[i]) * int(z[i])\n",
    "    return (accum % 2)\n",
    "\n",
    "print('b = ' + b)\n",
    "for z in device_counts:\n",
    "    print( '{}.{} = {} (mod 2) ({:.1f}%)'.format(b, z, bdotz(b,z), device_counts[z]*100/shots))"
   ]
  },
  {
   "cell_type": "markdown",
   "metadata": {},
   "source": [
    "As we can see, the most significant results are those for which $b\\cdot z = 0$ (mod 2). The other results are erroneous, but have a lower probability of occurring. Assuming we are unlikely to measure the erroneous results, we can then use a classical computer to recover the value of $b$ by solving the linear system of equations. For this $n=2$ case, $b = 11$."
   ]
  },
  {
   "cell_type": "markdown",
   "metadata": {},
   "source": [
    "## 4. Oracle <a id='oracle'></a>\n",
    "\n",
    "The above [example](#example) and [implementation](#implementation) of Simon's algorithm are specifically for specific values of $b$. To extend the problem to other secret bit strings, we need to discuss the Simon query function or oracle in more detail.\n",
    "\n",
    "The Simon algorithm deals with finding a hidden bitstring $b \\in \\{0,1\\}^n$ from an oracle $f_b$ that satisfies $f_b(x) = f_b(y)$ if and only if $y = x \\oplus b$ for all $x \\in \\{0,1\\}^n$.  Here, the $\\oplus$ is the bitwise XOR operation. Thus, if $b = 0\\ldots 0$, i.e., the all-zero bitstring, then $f_b$ is a 1-to-1 (or, permutation) function. Otherwise, if $b \\neq 0\\ldots 0$, then $f_b$ is a 2-to-1 function. \n",
    "\n",
    "In the algorithm, the oracle receives $|x\\rangle|0\\rangle$ as input. With regards to a predetermined $b$, the oracle writes its output to the second register so that it transforms the input to $|x\\rangle|f_b(x)\\rangle$ such that $f(x) = f(x\\oplus b)$ for all $x \\in \\{0,1\\}^n$. \n",
    "\n",
    "Such a blackbox function can be realized by the following procedures.\n",
    "\n",
    "-  Copy the content of the first register to the second register.\n",
    "$$\n",
    "|x\\rangle|0\\rangle \\rightarrow |x\\rangle|x\\rangle\n",
    "$$\n",
    "\n",
    "-  **(Creating 1-to-1 or 2-to-1 mapping)** If $b$ is not all-zero, then there is the least index $j$ so that $b_j = 1$. If $x_j = 0$, then XOR the second register with $b$. Otherwise, do not change the second register.\n",
    "$$\n",
    "|x\\rangle|x\\rangle \\rightarrow |x\\rangle|x \\oplus b\\rangle~\\mbox{if}~x_j = 0~\\mbox{for the least index j}\n",
    "$$\n",
    "\n",
    "-  **(Creating random permutation)** Randomly permute and flip the qubits of the second register.\n",
    "$$\n",
    "|x\\rangle|y\\rangle \\rightarrow |x\\rangle|f_b(y)\\rangle\n",
    "$$\n"
   ]
  },
  {
   "cell_type": "markdown",
   "metadata": {},
   "source": [
    "## 5. Problems <a id='problems'></a>\n",
    "\n",
    "1. Implement a general Simon oracle using Qiskit.\n",
    "2. Test your general Simon oracle with the secret bitstring $b=1001$, on a simulator and device. Are the results what you expect? Explain why."
   ]
  },
  {
   "cell_type": "markdown",
   "metadata": {},
   "source": [
    "## 6. References <a id='references'></a>\n",
    "\n",
    "1. Daniel R. Simon (1997) \"On the Power of Quantum Computation\" SIAM Journal on Computing, 26(5), 1474–1483, [doi:10.1137/S0097539796298637](https://doi.org/10.1137/S0097539796298637)\n",
    "2. Guangya Cai and Daowen Qiu. Optimal separation in exact query complexities for Simon's problem. Journal of Computer and System Sciences 97: 83-93, 2018, [https://doi.org/10.1016/j.jcss.2018.05.001](https://doi.org/10.1016/j.jcss.2018.05.001)"
   ]
  },
  {
   "cell_type": "code",
   "execution_count": 12,
   "metadata": {},
   "outputs": [
    {
     "ename": "ModuleNotFoundError",
     "evalue": "No module named 'qiskit.tools'",
     "output_type": "error",
     "traceback": [
      "\u001b[1;31m---------------------------------------------------------------------------\u001b[0m",
      "\u001b[1;31mModuleNotFoundError\u001b[0m                       Traceback (most recent call last)",
      "Cell \u001b[1;32mIn[12], line 1\u001b[0m\n\u001b[1;32m----> 1\u001b[0m \u001b[38;5;28;01mimport\u001b[39;00m \u001b[38;5;21;01mqiskit\u001b[39;00m\u001b[38;5;21;01m.\u001b[39;00m\u001b[38;5;21;01mtools\u001b[39;00m\u001b[38;5;21;01m.\u001b[39;00m\u001b[38;5;21;01mjupyter\u001b[39;00m\n\u001b[0;32m      2\u001b[0m get_ipython()\u001b[38;5;241m.\u001b[39mrun_line_magic(\u001b[38;5;124m'\u001b[39m\u001b[38;5;124mqiskit_version_table\u001b[39m\u001b[38;5;124m'\u001b[39m, \u001b[38;5;124m'\u001b[39m\u001b[38;5;124m'\u001b[39m)\n",
      "\u001b[1;31mModuleNotFoundError\u001b[0m: No module named 'qiskit.tools'"
     ]
    }
   ],
   "source": [
    "import qiskit.tools.jupyter\n",
    "%qiskit_version_table"
   ]
  },
  {
   "cell_type": "code",
   "execution_count": null,
   "metadata": {},
   "outputs": [],
   "source": []
  }
 ],
 "metadata": {
  "kernelspec": {
   "display_name": "Python 3 (ipykernel)",
   "language": "python",
   "name": "python3"
  },
  "language_info": {
   "codemirror_mode": {
    "name": "ipython",
    "version": 3
   },
   "file_extension": ".py",
   "mimetype": "text/x-python",
   "name": "python",
   "nbconvert_exporter": "python",
   "pygments_lexer": "ipython3",
   "version": "3.11.0"
  }
 },
 "nbformat": 4,
 "nbformat_minor": 4
}
