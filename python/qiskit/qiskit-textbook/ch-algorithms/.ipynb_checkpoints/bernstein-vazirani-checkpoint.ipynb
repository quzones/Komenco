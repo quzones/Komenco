{
 "cells": [
  {
   "cell_type": "markdown",
   "metadata": {
    "tags": [
     "remove_cell"
    ]
   },
   "source": [
    "# Bernstein-Vazirani Algorithm"
   ]
  },
  {
   "cell_type": "markdown",
   "metadata": {},
   "source": [
    "In this section, we first introduce the Bernstein-Vazirani problem, its classical solution, and the quantum algorithm to solve it. We then implement the quantum algorithm using Qiskit and run it on both a simulator and a device."
   ]
  },
  {
   "cell_type": "markdown",
   "metadata": {},
   "source": [
    "## 1. The Bernstein-Vazirani Algorithm<a id='algorithm'></a>\n",
    "\n",
    "The Bernstein-Vazirani algorithm, first introduced in Reference [1], can be seen as an extension of the Deutsch-Jozsa algorithm we covered in the last section. It showed that there can be advantages in using a quantum computer as a computational tool for more complex problems than the Deutsch-Jozsa problem.\n",
    "\n",
    "### 1.1 The Bernstein-Vazirani Problem <a id='bvproblem'> </a>\n",
    "\n",
    "We are again given a black-box function $f$, which takes as input a string of bits ($x$), and returns either $0$ or $1$, that is:\n",
    "$$f(\\{x_0,x_1,x_2,...\\}) \\rightarrow 0 \\textrm{ or } 1 \\textrm{ where } x_n \\textrm{ is }0 \\textrm{ or } 1  $$ \n",
    "\n",
    "Instead of the function being balanced or constant as in the Deutsch-Jozsa problem, now the function is guaranteed to return the bitwise product of the input with some string, $s$. In other words, given an input $x$, $f(x) = s \\cdot x \\, \\text{(mod 2)}$. We are expected to find $s$. As a classical reversible circuit, the Bernstein-Vazirani oracle looks like this:\n",
    "    \n",
    "![classical reversible circuit](images/bv2.png)\n",
    "\n",
    "\n",
    "\n",
    "### 1.2 The Classical Solution <a id='classical-solution'> </a>\n",
    "\n",
    "Classically, the oracle returns:\n",
    "$$f_s(x) = s \\cdot x \\mod 2$$ \n",
    "given an input $x$. Thus, the hidden bit string $s$ can be revealed by querying the oracle with the sequence of inputs:\n",
    "\n",
    "|Input(x)|\n",
    "|:-----:|\n",
    "|100...0|\n",
    "|010...0|\n",
    "|001...0|\n",
    "|000...1|\n",
    "\n",
    "Where each query reveals a different bit of $s$ (the bit $s_i$). For example, with `x = 1000...0` one can obtain the least significant bit of $s$, with `x = 0100...0` we can find the next least significant, and so on. This means we would need to call the function $f_s(x)$, $n$ times. "
   ]
  },
  {
   "cell_type": "markdown",
   "metadata": {},
   "source": [
    "### 1.3 The Quantum Solution <a id='quantum-solution'> </a>\n",
    "\n",
    "Using a quantum computer, we can solve this problem with 100% confidence after only one call to the function $f(x)$. The quantum Bernstein-Vazirani algorithm to find the hidden bit string is very simple: \n",
    "\n",
    "1. Initialize the inputs qubits to the $|0\\rangle^{\\otimes n}$ state, and output qubit to $|{-}\\rangle$.\n",
    "2. Apply Hadamard gates to the input register\n",
    "3. Query the oracle\n",
    "4. Apply Hadamard gates to the input register\n",
    "5. Measure\n",
    "\n",
    "<img src=\"images/bv1.png\">\n",
    "\n",
    "To explain the algorithm, let’s look more closely at what happens when we apply a H-gate to each qubit. If we have an $n$-qubit state, $|a\\rangle$, and apply the H-gates, we will see the transformation:\n",
    "\n",
    "$$\n",
    "|a\\rangle \\xrightarrow{H^{\\otimes n}} \\frac{1}{\\sqrt{2^n}} \\sum_{x\\in \\{0,1\\}^n} (-1)^{a\\cdot x}|x\\rangle.\n",
    "$$\n",
    "\n",
    "\n",
    "\n",
    "<details>\n",
    "    <summary>Explain Equation (Click to Expand)</summary>\n",
    "\n",
    "We remember the Hadamard performs the following transformations on one qubit:\n",
    "\n",
    "$$ H|0\\rangle = \\tfrac{1}{\\sqrt{2}}(|0\\rangle + |1\\rangle) $$\n",
    "$$ H|1\\rangle = \\tfrac{1}{\\sqrt{2}}(|0\\rangle - |1\\rangle) $$\n",
    "\n",
    "Using summation notation, we could rewrite it like this:\n",
    "\n",
    "$$ H|a\\rangle = \\frac{1}{\\sqrt{2}}\\sum_{x\\in \\{0,1\\}} (-1)^{a\\cdot x}|x\\rangle. $$\n",
    "\n",
    "For two qubits, applying a Hadamard to each performs the following transformations:\n",
    "\n",
    "$$ H^{\\otimes 2}|00\\rangle = \\tfrac{1}{2}(|00\\rangle + |01\\rangle + |10\\rangle + |11\\rangle) $$\n",
    "$$ H^{\\otimes 2}|01\\rangle = \\tfrac{1}{2}(|00\\rangle - |01\\rangle + |10\\rangle - |11\\rangle) $$\n",
    "$$ H^{\\otimes 2}|10\\rangle = \\tfrac{1}{2}(|00\\rangle + |01\\rangle - |10\\rangle - |11\\rangle) $$\n",
    "$$ H^{\\otimes 2}|11\\rangle = \\tfrac{1}{2}(|00\\rangle - |01\\rangle - |10\\rangle + |11\\rangle) $$\n",
    "\n",
    "We can express this using the summation below:\n",
    "\n",
    "$$ H^{\\otimes 2}|a\\rangle = \\frac{1}{2}\\sum_{x\\in \\{0,1\\}^2} (-1)^{a\\cdot x}|x\\rangle $$\n",
    "\n",
    "You will hopefully now see how we arrive at the equation above.\n",
    "</details>\n",
    "\n",
    "\n",
    "In particular, when we start with a quantum register $|00\\dots 0\\rangle$ and apply $n$ Hadamard gates to it, we have the familiar quantum superposition:\n",
    "\n",
    "$$\n",
    "|00\\dots 0\\rangle \\xrightarrow{H^{\\otimes n}} \\frac{1}{\\sqrt{2^n}} \\sum_{x\\in \\{0,1\\}^n} |x\\rangle\n",
    "$$\n",
    "\n",
    "In this case, the phase term $(-1)^{a\\cdot x}$ disappears, since $a=0$, and thus $(-1)^{a\\cdot x} = 1$. \n",
    "\n",
    "The classical oracle $f_s$ returns $1$ for any input $x$ such that $s \\cdot x\\mod 2 = 1$, and returns $0$ otherwise. If we use the same phase kickback trick from the Deutsch-Jozsa algorithm and act on a qubit in the state $|{-}\\rangle$, we get the following transformation:\n",
    "\n",
    "$$\n",
    "|x \\rangle \\xrightarrow{f_s} (-1)^{s\\cdot x} |x \\rangle \n",
    "$$\n",
    "\n",
    "The algorithm to reveal the hidden bit string follows naturally by querying the quantum oracle $f_s$ with the quantum superposition obtained from the Hadamard transformation of $|00\\dots 0\\rangle$. Namely,\n",
    "\n",
    "$$\n",
    "|00\\dots 0\\rangle \\xrightarrow{H^{\\otimes n}} \\frac{1}{\\sqrt{2^n}} \\sum_{x\\in \\{0,1\\}^n} |x\\rangle \\xrightarrow{f_a} \\frac{1}{\\sqrt{2^n}} \\sum_{x\\in \\{0,1\\}^n} (-1)^{a\\cdot x}|x\\rangle\n",
    "$$\n",
    "\n",
    "Because the inverse of the $n$ Hadamard gates is again the $n$ Hadamard gates, we can obtain $a$ by\n",
    "\n",
    "$$\n",
    "\\frac{1}{\\sqrt{2^n}} \\sum_{x\\in \\{0,1\\}^n} (-1)^{a\\cdot x}|x\\rangle \\xrightarrow{H^{\\otimes n}} |a\\rangle\n",
    "$$"
   ]
  },
  {
   "cell_type": "markdown",
   "metadata": {},
   "source": [
    "## 2. Example  <a id='example'></a>\n",
    "\n",
    "Let's go through a specific example for $n=2$ qubits and a secret string $s=11$. Note that we are following the formulation in Reference [2] that generates a circuit for the Bernstein-Vazirani quantum oracle using only one register. \n",
    "\n",
    "<ol>\n",
    "    <li> The register of two qubits is initialized to zero:\n",
    "    \n",
    "\n",
    "$$\\lvert \\psi_0 \\rangle = \\lvert 0 0 \\rangle$$\n",
    "\n",
    " \n",
    "   </li>\n",
    "\n",
    "   <li> Apply a Hadamard gate to both qubits:\n",
    "    \n",
    "\n",
    "$$\\lvert \\psi_1 \\rangle = \\frac{1}{2} \\left( \\lvert 0 0 \\rangle + \\lvert 0 1 \\rangle + \\lvert 1 0 \\rangle + \\lvert 1 1 \\rangle \\right) $$\n",
    "\n",
    " \n",
    "   </li>\n",
    "\n",
    "   <li> For the string $s=11$, the quantum oracle performs the operation:\n",
    "$$\n",
    "|x \\rangle \\xrightarrow{f_s} (-1)^{x\\cdot 11} |x \\rangle. \n",
    "$$\n",
    "\n",
    "$$\\lvert \\psi_2 \\rangle = \\frac{1}{2} \\left( (-1)^{00\\cdot 11}|00\\rangle + (-1)^{01\\cdot 11}|01\\rangle + (-1)^{10\\cdot 11}|10\\rangle + (-1)^{11\\cdot 11}|11\\rangle \\right)$$\n",
    "\n",
    "$$\\lvert \\psi_2 \\rangle = \\frac{1}{2} \\left( \\lvert 0 0 \\rangle - \\lvert 0 1 \\rangle - \\lvert 1 0 \\rangle + \\lvert 1 1 \\rangle \\right)$$\n",
    "\n",
    " \n",
    "   </li>\n",
    "\n",
    "   <li> Apply a Hadamard gate to both qubits:\n",
    "    \n",
    "\n",
    "$$\\lvert \\psi_3 \\rangle = \\lvert 1 1 \\rangle$$\n",
    "\n",
    " \n",
    "   </li>\n",
    "\n",
    "   <li> Measure to find the secret string $s=11$\n",
    "   </li>\n",
    "\n",
    "\n",
    "</ol>\n",
    "\n",
    "You can change the number of input qubits and the value of the secret string through the first two positional arguments."
   ]
  },
  {
   "cell_type": "markdown",
   "metadata": {},
   "source": [
    "## 3. Qiskit Implementation  <a id='implementation'></a>\n",
    "\n",
    "We'll now walk through the Bernstein-Vazirani algorithm implementation in Qiskit for a three bit function with $s=011$."
   ]
  },
  {
   "cell_type": "code",
   "execution_count": 2,
   "metadata": {},
   "outputs": [],
   "source": [
    "# initialization\n",
    "import matplotlib.pyplot as plt\n",
    "import numpy as np\n",
    "\n",
    "# importing Qiskit\n",
    "from qiskit import QuantumCircuit, ClassicalRegister, QuantumRegister\n",
    "\n",
    "# import basic plot tools\n",
    "from qiskit.visualization import plot_histogram"
   ]
  },
  {
   "cell_type": "markdown",
   "metadata": {},
   "source": [
    "We first set the number of qubits used in the experiment, and the hidden bit string $s$ to be found by the algorithm. The hidden bit string $s$ determines the circuit for the quantum oracle. "
   ]
  },
  {
   "cell_type": "code",
   "execution_count": 3,
   "metadata": {},
   "outputs": [],
   "source": [
    "n = 3 # number of qubits used to represent s\n",
    "s = '011'   # the hidden binary string"
   ]
  },
  {
   "cell_type": "markdown",
   "metadata": {},
   "source": [
    "We then use Qiskit to program the Bernstein-Vazirani algorithm."
   ]
  },
  {
   "cell_type": "code",
   "execution_count": 9,
   "metadata": {},
   "outputs": [
    {
     "data": {
      "text/html": [
       "<pre style=\"word-wrap: normal;white-space: pre;background: #fff0;line-height: 1.1;font-family: &quot;Courier New&quot;,Courier,monospace\">     ┌───┐      ░ ┌───┐      ░ ┌───┐┌─┐      \n",
       "q_0: ┤ H ├──────░─┤ I ├──────░─┤ H ├┤M├──────\n",
       "     ├───┤      ░ └───┘      ░ ├───┤└╥┘┌─┐   \n",
       "q_1: ┤ H ├──────░───■────────░─┤ H ├─╫─┤M├───\n",
       "     ├───┤      ░   │        ░ ├───┤ ║ └╥┘┌─┐\n",
       "q_2: ┤ H ├──────░───┼────■───░─┤ H ├─╫──╫─┤M├\n",
       "     ├───┤┌───┐ ░ ┌─┴─┐┌─┴─┐ ░ └───┘ ║  ║ └╥┘\n",
       "q_3: ┤ H ├┤ Z ├─░─┤ X ├┤ X ├─░───────╫──╫──╫─\n",
       "     └───┘└───┘ ░ └───┘└───┘ ░       ║  ║  ║ \n",
       "c: 3/════════════════════════════════╩══╩══╩═\n",
       "                                     0  1  2 </pre>"
      ],
      "text/plain": [
       "     ┌───┐      ░ ┌───┐      ░ ┌───┐┌─┐      \n",
       "q_0: ┤ H ├──────░─┤ I ├──────░─┤ H ├┤M├──────\n",
       "     ├───┤      ░ └───┘      ░ ├───┤└╥┘┌─┐   \n",
       "q_1: ┤ H ├──────░───■────────░─┤ H ├─╫─┤M├───\n",
       "     ├───┤      ░   │        ░ ├───┤ ║ └╥┘┌─┐\n",
       "q_2: ┤ H ├──────░───┼────■───░─┤ H ├─╫──╫─┤M├\n",
       "     ├───┤┌───┐ ░ ┌─┴─┐┌─┴─┐ ░ └───┘ ║  ║ └╥┘\n",
       "q_3: ┤ H ├┤ Z ├─░─┤ X ├┤ X ├─░───────╫──╫──╫─\n",
       "     └───┘└───┘ ░ └───┘└───┘ ░       ║  ║  ║ \n",
       "c: 3/════════════════════════════════╩══╩══╩═\n",
       "                                     0  1  2 "
      ]
     },
     "execution_count": 9,
     "metadata": {},
     "output_type": "execute_result"
    }
   ],
   "source": [
    "# We need a circuit with n qubits, plus one auxiliary qubit\n",
    "# Also need n classical bits to write the output to\n",
    "bv_circuit = QuantumCircuit(n+1, n)\n",
    "\n",
    "# put auxiliary in state |->\n",
    "bv_circuit.h(n)\n",
    "bv_circuit.z(n)\n",
    "\n",
    "# Apply Hadamard gates before querying the oracle\n",
    "for i in range(n):\n",
    "    bv_circuit.h(i)\n",
    "    \n",
    "# Apply barrier \n",
    "bv_circuit.barrier()\n",
    "\n",
    "# Apply the inner-product oracle\n",
    "s = s[::-1] # reverse s to fit qiskit's qubit ordering\n",
    "for q in range(n):\n",
    "    if s[q] == '0':\n",
    "        bv_circuit.id(q)\n",
    "    else:\n",
    "        bv_circuit.cx(q, n)\n",
    "        \n",
    "# Apply barrier \n",
    "bv_circuit.barrier()\n",
    "\n",
    "#Apply Hadamard gates after querying the oracle\n",
    "for i in range(n):\n",
    "    bv_circuit.h(i)\n",
    "\n",
    "# Measurement\n",
    "for i in range(n):\n",
    "    bv_circuit.measure(i, i)\n",
    "\n",
    "bv_circuit.draw()"
   ]
  },
  {
   "cell_type": "markdown",
   "metadata": {},
   "source": [
    "### 3a. Experiment with Simulators  <a id='simulation'></a>\n",
    "\n",
    "We can run the above circuit on the simulator. "
   ]
  },
  {
   "cell_type": "code",
   "execution_count": 10,
   "metadata": {},
   "outputs": [
    {
     "name": "stdout",
     "output_type": "stream",
     "text": [
      "Executing Quantum Circuit With...\n",
      "4 Qubits And ...\n",
      "11 Gates\n",
      "Time Taken 0:00:00.064000\n"
     ]
    },
    {
     "data": {
      "image/png": "[encoded data removed]",
      "text/plain": [
       "<Figure size 640x480 with 1 Axes>"
      ]
     },
     "execution_count": 10,
     "metadata": {},
     "output_type": "execute_result"
    }
   ],
   "source": [
    "import sys\n",
    "sys.path.append('../../../')\n",
    "from AutomatskiKomencoQiskit import *\n",
    "\n",
    "# Run the Circuit using Automatski' Quantum Simulators and Quantum Computers\n",
    "# No need for transpiling with any transpiler\n",
    "backend = AutomatskiKomencoQiskit(host=\"103.212.120.18\", port=80)\n",
    "\n",
    "#bv_circuit = bv_circuit.decompose().decompose()\n",
    "\n",
    "# Run the circuit and get results\n",
    "result_sim = backend.run(bv_circuit, repetitions=1000, topK=20)\n",
    "\n",
    "answer = result_sim.get_counts(None)\n",
    "plot_histogram(answer)"
   ]
  },
  {
   "cell_type": "markdown",
   "metadata": {},
   "source": [
    "We can see that the result of the measurement is the hidden string `011`. "
   ]
  },
  {
   "cell_type": "markdown",
   "metadata": {},
   "source": [
    "2. The above [implementation](#implementation) of Bernstein-Vazirani is for a secret bit string $s = 011$. Modify the implementation for a secret string $s = 1011$. Are the results what you expect? Explain.\n",
    "3. The above [implementation](#implementation) of Bernstein-Vazirani is for a secret bit string $s = 011$. Modify the implementation for a secret string $s = 11101101$. Are the results what you expect? Explain."
   ]
  },
  {
   "cell_type": "markdown",
   "metadata": {},
   "source": [
    "## 5. References <a id='references'></a>\n",
    "1. Ethan Bernstein and Umesh Vazirani (1997) \"Quantum Complexity Theory\" SIAM Journal on Computing, Vol. 26, No. 5: 1411-1473, [doi:10.1137/S0097539796300921](https://doi.org/10.1137/S0097539796300921).\n",
    "2. Jiangfeng Du, Mingjun Shi, Jihui Wu, Xianyi Zhou, Yangmei Fan, BangJiao Ye, Rongdian Han (2001) \"Implementation of a quantum algorithm to solve the Bernstein-Vazirani parity problem without entanglement on an ensemble quantum computer\", Phys. Rev. A 64, 042306, [10.1103/PhysRevA.64.042306](https://doi.org/10.1103/PhysRevA.64.042306), [arXiv:quant-ph/0012114](https://arxiv.org/abs/quant-ph/0012114). "
   ]
  },
  {
   "cell_type": "code",
   "execution_count": 11,
   "metadata": {},
   "outputs": [
    {
     "ename": "ModuleNotFoundError",
     "evalue": "No module named 'qiskit.tools'",
     "output_type": "error",
     "traceback": [
      "\u001b[1;31m---------------------------------------------------------------------------\u001b[0m",
      "\u001b[1;31mModuleNotFoundError\u001b[0m                       Traceback (most recent call last)",
      "Cell \u001b[1;32mIn[11], line 1\u001b[0m\n\u001b[1;32m----> 1\u001b[0m \u001b[38;5;28;01mimport\u001b[39;00m \u001b[38;5;21;01mqiskit\u001b[39;00m\u001b[38;5;21;01m.\u001b[39;00m\u001b[38;5;21;01mtools\u001b[39;00m\u001b[38;5;21;01m.\u001b[39;00m\u001b[38;5;21;01mjupyter\u001b[39;00m\n\u001b[0;32m      2\u001b[0m get_ipython()\u001b[38;5;241m.\u001b[39mrun_line_magic(\u001b[38;5;124m'\u001b[39m\u001b[38;5;124mqiskit_version_table\u001b[39m\u001b[38;5;124m'\u001b[39m, \u001b[38;5;124m'\u001b[39m\u001b[38;5;124m'\u001b[39m)\n",
      "\u001b[1;31mModuleNotFoundError\u001b[0m: No module named 'qiskit.tools'"
     ]
    }
   ],
   "source": [
    "import qiskit.tools.jupyter\n",
    "%qiskit_version_table"
   ]
  },
  {
   "cell_type": "code",
   "execution_count": null,
   "metadata": {},
   "outputs": [],
   "source": []
  }
 ],
 "metadata": {
  "kernelspec": {
   "display_name": "Python 3 (ipykernel)",
   "language": "python",
   "name": "python3"
  },
  "language_info": {
   "codemirror_mode": {
    "name": "ipython",
    "version": 3
   },
   "file_extension": ".py",
   "mimetype": "text/x-python",
   "name": "python",
   "nbconvert_exporter": "python",
   "pygments_lexer": "ipython3",
   "version": "3.11.0"
  }
 },
 "nbformat": 4,
 "nbformat_minor": 4
}
