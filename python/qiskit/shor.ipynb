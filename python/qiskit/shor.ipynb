{
 "cells": [
  {
   "cell_type": "markdown",
   "metadata": {
    "tags": [
     "remove_cell"
    ]
   },
   "source": [
    "# Shor's Algorithm"
   ]
  },
  {
   "cell_type": "markdown",
   "metadata": {},
   "source": [
    "Shor’s algorithm is famous for factoring integers in polynomial time. Since the best-known classical algorithm requires greater-than-polynomial time to factor the product of two primes, the widely used cryptographic protocol, RSA, relies on factoring being impossible for large enough integers.\n",
    "\n",
    "In this chapter we will focus on the quantum part of Shor’s algorithm, which actually solves the problem of _period finding_. Since a factoring problem can be turned into a period finding problem in polynomial time, an efficient period finding algorithm can be used to factor integers efficiently too. For now its enough to show that if we can compute the period of $a^x\\bmod N$ efficiently, then we can also efficiently factor. Since period finding is a worthy problem in its own right, we will first solve this, then discuss how this can be used to factor in section 5."
   ]
  },
  {
   "cell_type": "code",
   "execution_count": 1,
   "metadata": {
    "scrolled": true,
    "tags": [
     "thebelab-init"
    ]
   },
   "outputs": [
    {
     "ename": "ModuleNotFoundError",
     "evalue": "No module named 'qiskit'",
     "output_type": "error",
     "traceback": [
      "\u001b[1;31m---------------------------------------------------------------------------\u001b[0m",
      "\u001b[1;31mModuleNotFoundError\u001b[0m                       Traceback (most recent call last)",
      "Cell \u001b[1;32mIn[1], line 4\u001b[0m\n\u001b[0;32m      2\u001b[0m \u001b[38;5;28;01mimport\u001b[39;00m \u001b[38;5;21;01mmatplotlib\u001b[39;00m\u001b[38;5;21;01m.\u001b[39;00m\u001b[38;5;21;01mpyplot\u001b[39;00m \u001b[38;5;28;01mas\u001b[39;00m \u001b[38;5;21;01mplt\u001b[39;00m\n\u001b[0;32m      3\u001b[0m \u001b[38;5;28;01mimport\u001b[39;00m \u001b[38;5;21;01mnumpy\u001b[39;00m \u001b[38;5;28;01mas\u001b[39;00m \u001b[38;5;21;01mnp\u001b[39;00m\n\u001b[1;32m----> 4\u001b[0m \u001b[38;5;28;01mfrom\u001b[39;00m \u001b[38;5;21;01mqiskit\u001b[39;00m \u001b[38;5;28;01mimport\u001b[39;00m QuantumCircuit\n\u001b[0;32m      5\u001b[0m \u001b[38;5;28;01mfrom\u001b[39;00m \u001b[38;5;21;01mqiskit\u001b[39;00m\u001b[38;5;21;01m.\u001b[39;00m\u001b[38;5;21;01mvisualization\u001b[39;00m \u001b[38;5;28;01mimport\u001b[39;00m plot_histogram\n\u001b[0;32m      6\u001b[0m \u001b[38;5;28;01mfrom\u001b[39;00m \u001b[38;5;21;01mmath\u001b[39;00m \u001b[38;5;28;01mimport\u001b[39;00m gcd\n",
      "\u001b[1;31mModuleNotFoundError\u001b[0m: No module named 'qiskit'"
     ]
    }
   ],
   "source": [
    "# pylint: disable=invalid-name\n",
    "import matplotlib.pyplot as plt\n",
    "import numpy as np\n",
    "from qiskit import QuantumCircuit\n",
    "from qiskit.visualization import plot_histogram\n",
    "from math import gcd\n",
    "from numpy.random import randint\n",
    "import pandas as pd\n",
    "from fractions import Fraction\n",
    "print(\"Imports Successful\")"
   ]
  },
  {
   "cell_type": "markdown",
   "metadata": {},
   "source": [
    "## 1. The Problem: Period Finding\n",
    "\n",
    "Let’s look at the periodic function:\n",
    "\n",
    "$$ f(x) = a^x \\bmod{N}$$\n",
    "\n",
    "<details>\n",
    "    <summary>Reminder: Modulo &amp; Modular Arithmetic (Click here to expand)</summary>\n",
    "\n",
    "The modulo operation (abbreviated to 'mod') simply means to find the remainder when dividing one number by another. For example:\n",
    "\n",
    "$$ 17 \\bmod 5 = 2 $$\n",
    "\n",
    "Since $17 \\div 5 = 3$ with remainder $2$. (i.e. $17 = (3\\times 5) + 2$). In Python, the modulo operation is denoted through the <code>%</code> symbol.\n",
    "\n",
    "This behaviour is used in <a href=\"https://en.wikipedia.org/wiki/Modular_arithmetic\">modular arithmetic</a>, where numbers 'wrap round' after reaching a certain value (the modulus). Using modular arithmetic, we could write:\n",
    "\n",
    "$$ 17 = 2 \\pmod 5$$\n",
    "\n",
    "Note that here the $\\pmod 5$ applies to the entire equation (since it's in parenthesis), unlike the equation above where it only applied to the left-hand side of the equation.\n",
    "</details>\n",
    "\n",
    "where $a$ and $N$ are positive integers, $a$ is less than $N$, and they have no common factors. The period, or order ($r$), is the smallest (non-zero) integer such that:\n",
    "\n",
    "$$a^r \\bmod N = 1 $$ \n",
    "\n",
    "We can see an example of this function plotted on the graph below. Note that the lines between points are to help see the periodicity and do not represent the intermediate values between the x-markers."
   ]
  },
  {
   "cell_type": "code",
   "execution_count": null,
   "metadata": {
    "tags": [
     "remove_input"
    ]
   },
   "outputs": [],
   "source": [
    "N = 35\n",
    "a = 3\n",
    "\n",
    "# Calculate the plotting data\n",
    "xvals = np.arange(35)\n",
    "yvals = [np.mod(a**x, N) for x in xvals]\n",
    "\n",
    "# Use matplotlib to display it nicely\n",
    "fig, ax = plt.subplots()\n",
    "ax.plot(xvals, yvals, linewidth=1, linestyle='dotted', marker='x')\n",
    "ax.set(xlabel='$x$', ylabel=f'${a}^x$ mod ${N}$',\n",
    "       title=\"Example of Periodic Function in Shor's Algorithm\")\n",
    "try: # plot r on the graph\n",
    "    r = yvals[1:].index(1) + 1\n",
    "    plt.annotate('', xy=(0,1), xytext=(r,1),\n",
    "                 arrowprops=dict(arrowstyle='<->'))\n",
    "    plt.annotate(f'$r={r}$', xy=(r/3,1.5))\n",
    "except ValueError:\n",
    "    print('Could not find period, check a < N and have no common factors.')"
   ]
  },
  {
   "cell_type": "markdown",
   "metadata": {},
   "source": [
    "## 2. The Solution\n",
    "\n",
    "Shor’s solution was to use [quantum phase estimation](./quantum-phase-estimation.html) on the unitary operator:\n",
    "\n",
    "$$ U|y\\rangle \\equiv |ay \\bmod N \\rangle $$\n",
    "\n",
    "To see how this is helpful, let’s work out what an eigenstate of U might look like. If we started in the state $|1\\rangle$, we can see that each successive application of U will multiply the state of our register by $a \\pmod N$, and after $r$ applications we will arrive at the state $|1\\rangle$ again. For example with $a = 3$ and $N = 35$:\n",
    "\n",
    "$$\\begin{aligned}\n",
    "U|1\\rangle &= |3\\rangle & \\\\\n",
    "U^2|1\\rangle &= |9\\rangle \\\\\n",
    "U^3|1\\rangle &= |27\\rangle \\\\\n",
    "& \\vdots \\\\\n",
    "U^{(r-1)}|1\\rangle &= |12\\rangle \\\\\n",
    "U^r|1\\rangle &= |1\\rangle \n",
    "\\end{aligned}$$"
   ]
  },
  {
   "cell_type": "code",
   "execution_count": null,
   "metadata": {
    "tags": [
     "remove_input"
    ]
   },
   "outputs": [],
   "source": [
    "ax.set(xlabel='Number of applications of U',\n",
    "       ylabel='End state of register',\n",
    "       title=\"Effect of Successive Applications of U\")\n",
    "fig"
   ]
  },
  {
   "cell_type": "markdown",
   "metadata": {},
   "source": [
    "So a superposition of the states in this cycle ($|u_0\\rangle$) would be an eigenstate of $U$:\n",
    "\n",
    "$$|u_0\\rangle = \\tfrac{1}{\\sqrt{r}}\\sum_{k=0}^{r-1}{|a^k \\bmod N\\rangle} $$\n",
    "\n",
    "\n",
    "<details>\n",
    "    <summary>Click to Expand: Example with $a = 3$ and $N=35$</summary>\n",
    "\n",
    "$$\\begin{aligned}\n",
    "|u_0\\rangle &= \\tfrac{1}{\\sqrt{12}}(|1\\rangle + |3\\rangle + |9\\rangle \\dots + |4\\rangle + |12\\rangle) \\\\[10pt]\n",
    "U|u_0\\rangle &= \\tfrac{1}{\\sqrt{12}}(U|1\\rangle + U|3\\rangle + U|9\\rangle \\dots + U|4\\rangle + U|12\\rangle) \\\\[10pt]\n",
    " &= \\tfrac{1}{\\sqrt{12}}(|3\\rangle + |9\\rangle + |27\\rangle \\dots + |12\\rangle + |1\\rangle) \\\\[10pt]\n",
    " &= |u_0\\rangle\n",
    "\\end{aligned}$$\n",
    "</details>\n",
    "\n",
    "\n",
    "This eigenstate has an eigenvalue of 1, which isn’t very interesting. A more interesting eigenstate could be one in which the phase is different for each of these computational basis states. Specifically, let’s look at the case in which the phase of the $k^\\text{th}$ state is proportional to $k$:\n",
    "\n",
    "$$\\begin{aligned}\n",
    "|u_1\\rangle &= \\tfrac{1}{\\sqrt{r}}\\sum_{k=0}^{r-1}{e^{-\\tfrac{2\\pi i k}{r}}|a^k \\bmod N\\rangle}\\\\[10pt]\n",
    "U|u_1\\rangle &= e^{\\tfrac{2\\pi i}{r}}|u_1\\rangle \n",
    "\\end{aligned}\n",
    "$$\n",
    "\n",
    "<details>\n",
    "    <summary>Click to Expand: Example with $a = 3$ and $N=35$</summary>\n",
    "\n",
    "$$\\begin{aligned}\n",
    "|u_1\\rangle &= \\tfrac{1}{\\sqrt{12}}(|1\\rangle + e^{-\\tfrac{2\\pi i}{12}}|3\\rangle + e^{-\\tfrac{4\\pi i}{12}}|9\\rangle \\dots + e^{-\\tfrac{20\\pi i}{12}}|4\\rangle + e^{-\\tfrac{22\\pi i}{12}}|12\\rangle) \\\\[10pt]\n",
    "U|u_1\\rangle &= \\tfrac{1}{\\sqrt{12}}(|3\\rangle + e^{-\\tfrac{2\\pi i}{12}}|9\\rangle + e^{-\\tfrac{4\\pi i}{12}}|27\\rangle \\dots + e^{-\\tfrac{20\\pi i}{12}}|12\\rangle + e^{-\\tfrac{22\\pi i}{12}}|1\\rangle) \\\\[10pt]\n",
    "U|u_1\\rangle &= e^{\\tfrac{2\\pi i}{12}}\\cdot\\tfrac{1}{\\sqrt{12}}(e^{\\tfrac{-2\\pi i}{12}}|3\\rangle + e^{-\\tfrac{4\\pi i}{12}}|9\\rangle + e^{-\\tfrac{6\\pi i}{12}}|27\\rangle \\dots + e^{-\\tfrac{22\\pi i}{12}}|12\\rangle + e^{-\\tfrac{24\\pi i}{12}}|1\\rangle) \\\\[10pt]\n",
    "U|u_1\\rangle &= e^{\\tfrac{2\\pi i}{12}}|u_1\\rangle\n",
    "\\end{aligned}$$\n",
    "\n",
    "(We can see $r = 12$ appears in the denominator of the phase.)\n",
    "</details>\n",
    "\n",
    "This is a particularly interesting eigenvalue as it contains $r$. In fact, $r$ has to be included to make sure the phase differences between the $r$ computational basis states are equal. This is not the only eigenstate with this behaviour; to generalise this further, we can multiply an integer, $s$, to this phase difference, which will show up in our eigenvalue:\n",
    "\n",
    "$$\\begin{aligned}\n",
    "|u_s\\rangle &= \\tfrac{1}{\\sqrt{r}}\\sum_{k=0}^{r-1}{e^{-\\tfrac{2\\pi i s k}{r}}|a^k \\bmod N\\rangle}\\\\[10pt]\n",
    "U|u_s\\rangle &= e^{\\tfrac{2\\pi i s}{r}}|u_s\\rangle \n",
    "\\end{aligned}\n",
    "$$\n",
    "\n",
    "<details>\n",
    "    <summary>Click to Expand: Example with $a = 3$ and $N=35$</summary>\n",
    "\n",
    "$$\\begin{aligned}\n",
    "|u_s\\rangle &= \\tfrac{1}{\\sqrt{12}}(|1\\rangle + e^{-\\tfrac{2\\pi i s}{12}}|3\\rangle + e^{-\\tfrac{4\\pi i s}{12}}|9\\rangle \\dots + e^{-\\tfrac{20\\pi i s}{12}}|4\\rangle + e^{-\\tfrac{22\\pi i s}{12}}|12\\rangle) \\\\[10pt]\n",
    "U|u_s\\rangle &= \\tfrac{1}{\\sqrt{12}}(|3\\rangle + e^{-\\tfrac{2\\pi i s}{12}}|9\\rangle + e^{-\\tfrac{4\\pi i s}{12}}|27\\rangle \\dots + e^{-\\tfrac{20\\pi i s}{12}}|12\\rangle + e^{-\\tfrac{22\\pi i s}{12}}|1\\rangle) \\\\[10pt]\n",
    "U|u_s\\rangle &= e^{\\tfrac{2\\pi i s}{12}}\\cdot\\tfrac{1}{\\sqrt{12}}(e^{-\\tfrac{2\\pi i s}{12}}|3\\rangle + e^{-\\tfrac{4\\pi i s}{12}}|9\\rangle + e^{-\\tfrac{6\\pi i s}{12}}|27\\rangle \\dots + e^{-\\tfrac{22\\pi i s}{12}}|12\\rangle + e^{-\\tfrac{24\\pi i s}{12}}|1\\rangle) \\\\[10pt]\n",
    "U|u_s\\rangle &= e^{\\tfrac{2\\pi i s}{12}}|u_s\\rangle\n",
    "\\end{aligned}$$\n",
    "\n",
    "</details>\n",
    "\n",
    "We now have a unique eigenstate for each integer value of $s$ where $0 \\leq s \\leq r-1.$ Very conveniently, if we sum up all these eigenstates, the different phases cancel out all computational basis states except $|1\\rangle$:\n",
    "\n",
    "$$ \\tfrac{1}{\\sqrt{r}}\\sum_{s=0}^{r-1} |u_s\\rangle = |1\\rangle$$\n",
    "\n",
    "<details>\n",
    "    <summary>Click to Expand: Example with $a = 7$ and $N=15$</summary>\n",
    "\n",
    "For this, we will look at a smaller example where $a = 7$ and $N=15$. In this case $r=4$:\n",
    "\n",
    "$$\\begin{aligned}\n",
    "\\tfrac{1}{2}(\\quad|u_0\\rangle &= \\tfrac{1}{2}(|1\\rangle \\hphantom{e^{-\\tfrac{2\\pi i}{12}}}+ |7\\rangle \\hphantom{e^{-\\tfrac{12\\pi i}{12}}} + |4\\rangle \\hphantom{e^{-\\tfrac{12\\pi i}{12}}} + |13\\rangle)\\dots \\\\[10pt]\n",
    "+ |u_1\\rangle &= \\tfrac{1}{2}(|1\\rangle + e^{-\\tfrac{2\\pi i}{4}}|7\\rangle + e^{-\\tfrac{\\hphantom{1}4\\pi i}{4}}|4\\rangle + e^{-\\tfrac{\\hphantom{1}6\\pi i}{4}}|13\\rangle)\\dots \\\\[10pt]\n",
    "+ |u_2\\rangle &= \\tfrac{1}{2}(|1\\rangle + e^{-\\tfrac{4\\pi i}{4}}|7\\rangle + e^{-\\tfrac{\\hphantom{1}8\\pi i}{4}}|4\\rangle + e^{-\\tfrac{12\\pi i}{4}}|13\\rangle)\\dots \\\\[10pt]\n",
    "+ |u_3\\rangle &= \\tfrac{1}{2}(|1\\rangle + e^{-\\tfrac{6\\pi i}{4}}|7\\rangle + e^{-\\tfrac{12\\pi i}{4}}|4\\rangle + e^{-\\tfrac{18\\pi i}{4}}|13\\rangle)\\quad) = |1\\rangle \\\\[10pt]\n",
    "\\end{aligned}$$\n",
    "\n",
    "</details>\n",
    "\n",
    "Since the computational basis state $|1\\rangle$ is a superposition of these eigenstates, which means if we do QPE on $U$ using the state $|1\\rangle$, we will measure a phase:\n",
    "\n",
    "$$\\phi = \\frac{s}{r}$$\n",
    "\n",
    "Where $s$ is a random integer between $0$ and $r-1$. We finally use the [continued fractions](https://en.wikipedia.org/wiki/Continued_fraction) algorithm on $\\phi$ to find $r$. The circuit diagram looks like this (note that this diagram uses Qiskit's qubit ordering convention):\n",
    "\n",
    "<img src=\"images/shor_circuit_1.svg\">\n",
    "\n",
    "We will next demonstrate Shor’s algorithm using Qiskit’s simulators. For this demonstration we will provide the circuits for $U$ without explanation, but in section 4 we will discuss how circuits for $U^{2^j}$ can be constructed efficiently."
   ]
  },
  {
   "cell_type": "markdown",
   "metadata": {},
   "source": [
    "## 3. Qiskit Implementation\n",
    "\n",
    "In this example we will solve the period finding problem for $a=7$ and $N=15$. We provide the circuits for $U$ where:\n",
    "\n",
    "$$U|y\\rangle = |ay\\bmod 15\\rangle $$\n",
    "\n",
    "without explanation. To create $U^x$, we will simply repeat the circuit $x$ times. In the next section we will discuss a general method for creating these circuits efficiently. The function `c_amod15` returns the controlled-U gate for `a`, repeated `power` times."
   ]
  },
  {
   "cell_type": "code",
   "execution_count": null,
   "metadata": {
    "tags": [
     "thebelab-init"
    ]
   },
   "outputs": [],
   "source": [
    "def c_amod15(a, power):\n",
    "    \"\"\"Controlled multiplication by a mod 15\"\"\"\n",
    "    if a not in [2,4,7,8,11,13]:\n",
    "        raise ValueError(\"'a' must be 2,4,7,8,11 or 13\")\n",
    "    U = QuantumCircuit(4)\n",
    "    for _iteration in range(power):\n",
    "        if a in [2,13]:\n",
    "            U.swap(2,3)\n",
    "            U.swap(1,2)\n",
    "            U.swap(0,1)\n",
    "        if a in [7,8]:\n",
    "            U.swap(0,1)\n",
    "            U.swap(1,2)\n",
    "            U.swap(2,3)\n",
    "        if a in [4, 11]:\n",
    "            U.swap(1,3)\n",
    "            U.swap(0,2)\n",
    "        if a in [7,11,13]:\n",
    "            for q in range(4):\n",
    "                U.x(q)\n",
    "    U = U.to_gate()\n",
    "    U.name = f\"{a}^{power} mod 15\"\n",
    "    c_U = U.control()\n",
    "    return c_U"
   ]
  },
  {
   "cell_type": "markdown",
   "metadata": {},
   "source": [
    "We will use 8 counting qubits:"
   ]
  },
  {
   "cell_type": "code",
   "execution_count": null,
   "metadata": {
    "tags": [
     "thebelab-init"
    ]
   },
   "outputs": [],
   "source": [
    "# Specify variables\n",
    "N_COUNT = 8  # number of counting qubits\n",
    "a = 7"
   ]
  },
  {
   "cell_type": "markdown",
   "metadata": {},
   "source": [
    "We also import the circuit for the QFT (you can read more about the QFT in the [quantum Fourier transform chapter](./quantum-fourier-transform.html#generalqft)):"
   ]
  },
  {
   "cell_type": "code",
   "execution_count": null,
   "metadata": {
    "tags": [
     "thebelab-init"
    ]
   },
   "outputs": [],
   "source": [
    "def qft_dagger(n):\n",
    "    \"\"\"n-qubit QFTdagger the first n qubits in circ\"\"\"\n",
    "    qc = QuantumCircuit(n)\n",
    "    # Don't forget the Swaps!\n",
    "    for qubit in range(n//2):\n",
    "        qc.swap(qubit, n-qubit-1)\n",
    "    for j in range(n):\n",
    "        for m in range(j):\n",
    "            qc.cp(-np.pi/float(2**(j-m)), m, j)\n",
    "        qc.h(j)\n",
    "    qc.name = \"QFT†\"\n",
    "    return qc"
   ]
  },
  {
   "cell_type": "markdown",
   "metadata": {},
   "source": [
    "With these building blocks we can easily construct the circuit for Shor's algorithm:"
   ]
  },
  {
   "cell_type": "code",
   "execution_count": null,
   "metadata": {},
   "outputs": [],
   "source": [
    "# Create QuantumCircuit with N_COUNT counting qubits\n",
    "# plus 4 qubits for U to act on\n",
    "qc = QuantumCircuit(N_COUNT + 4, N_COUNT)\n",
    "\n",
    "# Initialize counting qubits\n",
    "# in state |+>\n",
    "for q in range(N_COUNT):\n",
    "    qc.h(q)\n",
    "\n",
    "# And auxiliary register in state |1>\n",
    "qc.x(N_COUNT)\n",
    "\n",
    "# Do controlled-U operations\n",
    "for q in range(N_COUNT):\n",
    "    qc.append(c_amod15(a, 2**q),\n",
    "             [q] + [i+N_COUNT for i in range(4)])\n",
    "\n",
    "# Do inverse-QFT\n",
    "qc.append(qft_dagger(N_COUNT), range(N_COUNT))\n",
    "\n",
    "# Measure circuit\n",
    "qc.measure(range(N_COUNT), range(N_COUNT))\n",
    "qc.draw(fold=-1)  # -1 means 'do not fold'"
   ]
  },
  {
   "cell_type": "markdown",
   "metadata": {},
   "source": [
    "Let's see what results we measure:"
   ]
  },
  {
   "cell_type": "code",
   "execution_count": null,
   "metadata": {},
   "outputs": [],
   "source": [
    "import sys\n",
    "sys.path.append('../')\n",
    "from AutomatskiKomencoQiskit import *\n",
    "\n",
    "# Run the Circuit using Automatski' Quantum Simulators and Quantum Computers\n",
    "# No need for transpiling with any transpiler 103.212.120.18\n",
    "backend = AutomatskiKomencoQiskit(host=\"localhost\", port=80)\n",
    "\n",
    "qc = qc.decompose().decompose()\n",
    "\n",
    "# Run the circuit and get results\n",
    "result_sim = backend.run(qc, repetitions=1000, topK=20)\n",
    "\n",
    "counts = result_sim.get_counts(None)\n",
    "plot_histogram(counts)"
   ]
  },
  {
   "cell_type": "markdown",
   "metadata": {},
   "source": [
    "Since we have 8 qubits, these results correspond to measured phases of:"
   ]
  },
  {
   "cell_type": "code",
   "execution_count": null,
   "metadata": {},
   "outputs": [],
   "source": [
    "rows, measured_phases = [], []\n",
    "for output in counts:\n",
    "    decimal = int(output, 2)  # Convert (base 2) string to decimal\n",
    "    phase = decimal/(2**N_COUNT)  # Find corresponding eigenvalue\n",
    "    measured_phases.append(phase)\n",
    "    # Add these values to the rows in our table:\n",
    "    rows.append([f\"{output}(bin) = {decimal:>3}(dec)\",\n",
    "                 f\"{decimal}/{2**N_COUNT} = {phase:.2f}\"])\n",
    "# Print the rows in a table\n",
    "headers=[\"Register Output\", \"Phase\"]\n",
    "df = pd.DataFrame(rows, columns=headers)\n",
    "print(df)"
   ]
  },
  {
   "cell_type": "markdown",
   "metadata": {},
   "source": [
    "We can now use the continued fractions algorithm to attempt to find $s$ and $r$. Python has this functionality built in: We can use the `fractions` module to turn a float into a `Fraction` object, for example:"
   ]
  },
  {
   "cell_type": "code",
   "execution_count": null,
   "metadata": {},
   "outputs": [],
   "source": [
    "Fraction(0.666)"
   ]
  },
  {
   "cell_type": "markdown",
   "metadata": {},
   "source": [
    "Because this gives fractions that return the result exactly (in this case, `0.6660000...`), this can give gnarly results like the one above. We can use the `.limit_denominator()` method to get the fraction that most closely resembles our float, with denominator below a certain value:"
   ]
  },
  {
   "cell_type": "code",
   "execution_count": null,
   "metadata": {},
   "outputs": [],
   "source": [
    "# Get fraction that most closely resembles 0.666\n",
    "# with denominator < 15\n",
    "Fraction(0.666).limit_denominator(15)"
   ]
  },
  {
   "cell_type": "markdown",
   "metadata": {},
   "source": [
    "Much nicer! The order (r) must be less than N, so we will set the maximum denominator to be `15`:"
   ]
  },
  {
   "cell_type": "code",
   "execution_count": null,
   "metadata": {},
   "outputs": [],
   "source": [
    "rows = []\n",
    "for phase in measured_phases:\n",
    "    frac = Fraction(phase).limit_denominator(15)\n",
    "    rows.append([phase,\n",
    "                 f\"{frac.numerator}/{frac.denominator}\",\n",
    "                 frac.denominator])\n",
    "# Print as a table\n",
    "headers=[\"Phase\", \"Fraction\", \"Guess for r\"]\n",
    "df = pd.DataFrame(rows, columns=headers)\n",
    "print(df)"
   ]
  },
  {
   "cell_type": "markdown",
   "metadata": {},
   "source": [
    "We can see that two of the measured eigenvalues provided us with the correct result: $r=4$, and we can see that Shor’s algorithm has a chance of failing. These bad results are because $s = 0$, or because $s$ and $r$ are not coprime and instead of $r$ we are given a factor of $r$. The easiest solution to this is to simply repeat the experiment until we get a satisfying result for $r$.\n",
    "\n",
    "### Quick Exercise\n",
    "\n",
    "- Change the circuit above for values of $a = 2, 8, 11$ and $13$. What results do you get and why?"
   ]
  },
  {
   "cell_type": "markdown",
   "metadata": {},
   "source": [
    "## 4. Modular Exponentiation\n",
    "\n",
    "You may have noticed that the method of creating the $U^{2^j}$ gates by repeating $U$ grows exponentially with $j$ and will not result in a polynomial time algorithm. We want a way to create the operator:\n",
    "\n",
    "$$ U^{2^j}|y\\rangle = |a^{2^j}y \\bmod N \\rangle $$\n",
    "\n",
    "that grows polynomially with $j$. Fortunately, calculating:\n",
    "\n",
    "$$ a^{2^j} \\bmod N$$\n",
    "\n",
    "efficiently is possible. Classical computers can use an algorithm known as _repeated squaring_ to calculate an exponential. In our case, since we are only dealing with exponentials of the form $2^j$, the repeated squaring algorithm becomes very simple:"
   ]
  },
  {
   "cell_type": "code",
   "execution_count": null,
   "metadata": {
    "tags": [
     "thebelab-init"
    ]
   },
   "outputs": [],
   "source": [
    "def a2jmodN(a, j, N):\n",
    "    \"\"\"Compute a^{2^j} (mod N) by repeated squaring\"\"\"\n",
    "    for _ in range(j):\n",
    "        a = np.mod(a**2, N)\n",
    "    return a"
   ]
  },
  {
   "cell_type": "code",
   "execution_count": null,
   "metadata": {},
   "outputs": [],
   "source": [
    "a2jmodN(7, 2049, 53)"
   ]
  },
  {
   "cell_type": "markdown",
   "metadata": {},
   "source": [
    "If an efficient algorithm is possible in Python, then we can use the same algorithm on a quantum computer. Unfortunately, despite scaling polynomially with $j$, modular exponentiation circuits are not straightforward and are the bottleneck in Shor’s algorithm. A beginner-friendly implementation can be found in reference [1].\n",
    "\n",
    "## 5. Factoring from Period Finding\n",
    "\n",
    "Not all factoring problems are difficult; we can spot an even number instantly and know that one of its factors is 2. In fact, there are [specific criteria](https://nvlpubs.nist.gov/nistpubs/FIPS/NIST.FIPS.186-4.pdf#%5B%7B%22num%22%3A127%2C%22gen%22%3A0%7D%2C%7B%22name%22%3A%22XYZ%22%7D%2C70%2C223%2C0%5D) for choosing numbers that are difficult to factor, but the basic idea is to choose the product of two large prime numbers.\n",
    "\n",
    "A general factoring algorithm will first check to see if there is a shortcut to factoring the integer (is the number even? Is the number of the form $N = a^b$?), before using Shor’s period finding for the worst-case scenario. Since we aim to focus on the quantum part of the algorithm, we will jump straight to the case in which N is the product of two primes.\n",
    "\n",
    "### Example: Factoring 15\n",
    "\n",
    "To see an example of factoring on a small number of qubits, we will factor 15, which we all know is the product of the not-so-large prime numbers 3 and 5."
   ]
  },
  {
   "cell_type": "code",
   "execution_count": null,
   "metadata": {
    "tags": [
     "thebelab-init"
    ]
   },
   "outputs": [],
   "source": [
    "N = 15"
   ]
  },
  {
   "cell_type": "markdown",
   "metadata": {},
   "source": [
    "The first step is to choose a random number, $a$, between $1$ and $N-1$:"
   ]
  },
  {
   "cell_type": "code",
   "execution_count": null,
   "metadata": {
    "tags": [
     "thebelab-init"
    ]
   },
   "outputs": [],
   "source": [
    "np.random.seed(1) # This is to make sure we get reproduceable results\n",
    "a = randint(2, 15)\n",
    "print(a)"
   ]
  },
  {
   "cell_type": "markdown",
   "metadata": {},
   "source": [
    "Next we quickly check it isn't already a non-trivial factor of $N$:"
   ]
  },
  {
   "cell_type": "code",
   "execution_count": null,
   "metadata": {
    "scrolled": true
   },
   "outputs": [],
   "source": [
    "from math import gcd # greatest common divisor\n",
    "gcd(a, N)"
   ]
  },
  {
   "cell_type": "markdown",
   "metadata": {},
   "source": [
    "Great. Next, we do Shor's order finding algorithm for `a = 7` and `N = 15`. Remember that the phase we measure will be $s/r$ where:\n",
    "\n",
    "$$ a^r \\bmod N = 1 $$\n",
    "\n",
    "and $s$ is a random integer between 0 and $r-1$."
   ]
  },
  {
   "cell_type": "code",
   "execution_count": null,
   "metadata": {
    "tags": [
     "thebelab-init"
    ]
   },
   "outputs": [],
   "source": [
    "def qpe_amod15(a):\n",
    "    \"\"\"Performs quantum phase estimation on the operation a*r mod 15.\n",
    "    Args:\n",
    "        a (int): This is 'a' in a*r mod 15\n",
    "    Returns:\n",
    "        float: Estimate of the phase\n",
    "    \"\"\"\n",
    "    N_COUNT = 8\n",
    "    qc = QuantumCircuit(4+N_COUNT, N_COUNT)\n",
    "    for q in range(N_COUNT):\n",
    "        qc.h(q)     # Initialize counting qubits in state |+>\n",
    "    qc.x(N_COUNT) # And auxiliary register in state |1>\n",
    "    for q in range(N_COUNT): # Do controlled-U operations\n",
    "        qc.append(c_amod15(a, 2**q),\n",
    "                 [q] + [i+N_COUNT for i in range(4)])\n",
    "    qc.append(qft_dagger(N_COUNT), range(N_COUNT)) # Do inverse-QFT\n",
    "    qc.measure(range(N_COUNT), range(N_COUNT))\n",
    "\n",
    "    qc = qc.decompose().decompose()\n",
    "    \n",
    "    # Run the circuit and get results\n",
    "    result_sim = backend.run(qc, repetitions=1000, topK=20)\n",
    "    \n",
    "    counts = result_sim.get_counts(None)\n",
    "    \n",
    "    #readings = job.result().get_memory()\n",
    "    #readings[0]\n",
    "    reading = max(counts, key=counts.get)\n",
    "    print(\"Register Reading: \" + reading)\n",
    "    phase = int(reading,2)/(2**N_COUNT)\n",
    "    print(f\"Corresponding Phase: {phase}\")\n",
    "    return phase"
   ]
  },
  {
   "cell_type": "markdown",
   "metadata": {},
   "source": [
    "From this phase, we can easily find a guess for $r$:"
   ]
  },
  {
   "cell_type": "code",
   "execution_count": null,
   "metadata": {},
   "outputs": [],
   "source": [
    "phase = qpe_amod15(a) # Phase = s/r\n",
    "Fraction(phase).limit_denominator(15)"
   ]
  },
  {
   "cell_type": "code",
   "execution_count": null,
   "metadata": {},
   "outputs": [],
   "source": [
    "frac = Fraction(phase).limit_denominator(15)\n",
    "s, r = frac.numerator, frac.denominator\n",
    "print(r)"
   ]
  },
  {
   "cell_type": "markdown",
   "metadata": {},
   "source": [
    "Now we have $r$, we might be able to use this to find a factor of $N$. Since:\n",
    "\n",
    "$$a^r \\bmod N = 1 $$\n",
    "\n",
    "then:\n",
    "\n",
    "$$(a^r - 1) \\bmod N = 0 $$\n",
    "\n",
    "which means $N$ must divide $a^r-1$. And if $r$ is also even, then we can write:\n",
    "\n",
    "$$a^r -1 = (a^{r/2}-1)(a^{r/2}+1)$$\n",
    "\n",
    "(if $r$ is not even, we cannot go further and must try again with a different value for $a$). There is then a high probability that the greatest common divisor of $N$ and either $a^{r/2}-1$, or $a^{r/2}+1$ is a proper factor of $N$ [2]:"
   ]
  },
  {
   "cell_type": "code",
   "execution_count": null,
   "metadata": {},
   "outputs": [],
   "source": [
    "guesses = [gcd(a**(r//2)-1, N), gcd(a**(r//2)+1, N)]\n",
    "print(guesses)"
   ]
  },
  {
   "cell_type": "markdown",
   "metadata": {},
   "source": [
    "The cell below repeats the algorithm until at least one factor of 15 is found. You should try re-running the cell a few times to see how it behaves."
   ]
  },
  {
   "cell_type": "code",
   "execution_count": null,
   "metadata": {},
   "outputs": [],
   "source": [
    "a = 7\n",
    "FACTOR_FOUND = False\n",
    "ATTEMPT = 0\n",
    "while not FACTOR_FOUND:\n",
    "    ATTEMPT += 1\n",
    "    print(f\"\\nATTEMPT {ATTEMPT}:\")\n",
    "    phase = qpe_amod15(a) # Phase = s/r\n",
    "    frac = Fraction(phase).limit_denominator(N)\n",
    "    r = frac.denominator\n",
    "    print(f\"Result: r = {r}\")\n",
    "    if phase != 0:\n",
    "        # Guesses for factors are gcd(x^{r/2} ±1 , 15)\n",
    "        guesses = [gcd(a**(r//2)-1, N), gcd(a**(r//2)+1, N)]\n",
    "        print(f\"Guessed Factors: {guesses[0]} and {guesses[1]}\")\n",
    "        for guess in guesses:\n",
    "            if guess not in [1,N] and (N % guess) == 0:\n",
    "                # Guess is a factor!\n",
    "                print(f\"*** Non-trivial factor found: {guess} ***\")\n",
    "                FACTOR_FOUND = True"
   ]
  },
  {
   "cell_type": "code",
   "execution_count": null,
   "metadata": {
    "tags": [
     "sanity-check"
    ]
   },
   "outputs": [],
   "source": [
    "# The cell below repeats the algorithm until at least one factor of 15\n",
    "# is found\n",
    "assert (3 in guesses) or (5 in guesses)"
   ]
  },
  {
   "cell_type": "markdown",
   "metadata": {},
   "source": [
    "## 6. References\n",
    "\n",
    "1. Stephane Beauregard, _Circuit for Shor's algorithm using 2n+3 qubits,_ [arXiv:quant-ph/0205095](https://arxiv.org/abs/quant-ph/0205095)\n",
    "\n",
    "2. M. Nielsen and I. Chuang, _Quantum Computation and Quantum Information,_ Cambridge Series on Information and the Natural Sciences (Cambridge University Press, Cambridge, 2000). (Page 633)"
   ]
  },
  {
   "cell_type": "code",
   "execution_count": null,
   "metadata": {},
   "outputs": [],
   "source": [
    "# pylint: disable=unused-import\n",
    "import qiskit.tools.jupyter\n",
    "%qiskit_version_table"
   ]
  }
 ],
 "metadata": {
  "kernelspec": {
   "display_name": "Python 3 (ipykernel)",
   "language": "python",
   "name": "python3"
  },
  "language_info": {
   "codemirror_mode": {
    "name": "ipython",
    "version": 3
   },
   "file_extension": ".py",
   "mimetype": "text/x-python",
   "name": "python",
   "nbconvert_exporter": "python",
   "pygments_lexer": "ipython3",
   "version": "3.12.7"
  }
 },
 "nbformat": 4,
 "nbformat_minor": 4
}
