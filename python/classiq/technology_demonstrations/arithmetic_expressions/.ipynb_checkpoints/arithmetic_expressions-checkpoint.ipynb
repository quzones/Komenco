{
 "cells": [
  {
   "cell_type": "markdown",
   "id": "1671dee4-9ac6-4baa-bcbc-2f708493ded9",
   "metadata": {},
   "source": [
    "# Arithmetic Expressions"
   ]
  },
  {
   "cell_type": "markdown",
   "id": "95af82ec-954f-4321-924a-352064eee8f4",
   "metadata": {},
   "source": [
    "This tutorial demonstrates automatic arithmetic operation management by the synthesis engine. It synthesizes a complex arithmetic expression, where uncomputation procedure, together with initialization and reuse of auxiliary qubits, are all automated. Given different **global** width or depth constraints results in different circuits."
   ]
  },
  {
   "cell_type": "markdown",
   "id": "9832b996-79c6-4f6d-8b49-6faac1891188",
   "metadata": {},
   "source": [
    "Define a quantum model that applies some quantum arithmetic operation on `QNum` variables."
   ]
  },
  {
   "cell_type": "code",
   "execution_count": 2,
   "id": "674d1423-6ac5-4f6b-8328-7073a72c0a28",
   "metadata": {},
   "outputs": [],
   "source": [
    "from classiq import (\n",
    "    Output,\n",
    "    QBit,\n",
    "    QNum,\n",
    "    create_model,\n",
    "    execute,\n",
    "    prepare_int,\n",
    "    qfunc,\n",
    "    synthesize,\n",
    ")\n",
    "from classiq.qmod.symbolic import max\n",
    "import classiq\n",
    "classiq.authenticate()\n",
    "\n",
    "from qiskit import QuantumCircuit\n",
    "import sys\n",
    "sys.path.append('../../../')\n",
    "from AutomatskiKomencoQiskit import *\n",
    "sys.path.append('../../')\n",
    "from AutomatskiClassiq import *\n",
    "\n",
    "# Run the Circuit using Automatski' Quantum Simulators and Quantum Computers\n",
    "# No need for transpiling with any transpiler\n",
    "backend = AutomatskiKomencoQiskit(host=\"103.212.120.18\", port=80)\n",
    "\n",
    "\n",
    "@qfunc\n",
    "def main(z: Output[QNum]):\n",
    "    x = QNum(\"x\")\n",
    "    y = QNum(\"y\")\n",
    "    prepare_int(2, x)\n",
    "    prepare_int(1, y)\n",
    "    z |= (2 * x + y + max(3 * y, 2)) > 4\n",
    "\n",
    "\n",
    "qmod = create_model(main)"
   ]
  },
  {
   "cell_type": "markdown",
   "id": "50dfe506-af0c-4300-a4b4-064b14567985",
   "metadata": {},
   "source": [
    "You can try different optimization scenarios, below we introduce two examples:\n",
    "1. Optimizing over depth and constraining the maximal width to 9 qubits.\n",
    "2. Optimizing over depth and constraining the maximal width to 12 qubits."
   ]
  },
  {
   "cell_type": "markdown",
   "id": "5474a102",
   "metadata": {},
   "source": [
    "Optimizing over depth and constraining the maximal width to 9 qubits"
   ]
  },
  {
   "cell_type": "code",
   "execution_count": 3,
   "id": "ba0e933a-9878-4ce2-b5af-2e4c65638f60",
   "metadata": {},
   "outputs": [
    {
     "name": "stdout",
     "output_type": "stream",
     "text": [
      "Opening: https://platform.classiq.io/circuit/e5803d5e-d667-48a9-aac7-8ee9f5772640?version=0.59.0\n",
      "Executing Quantum Circuit With...\n",
      "9 Qubits And ...\n",
      "499 Gates\n",
      "Time Taken 0:00:00.111000\n",
      "{'000010101': 1000, '011000101': 0, '011010101': 0, '011010001': 0, '000010001': 0, '000110101': 0, '010110101': 0, '000000011': 0, '000010011': 0, '000000101': 0, '111000001': 0, '000010111': 0, '010110011': 0, '010000111': 0, '100000101': 0, '000000001': 0, '110010101': 0, '011010011': 0, '000111101': 0, '010110111': 0}\n",
      "The result of the arithmetic calculation:  {'000010101': 1000, '011000101': 0, '011010101': 0, '011010001': 0, '000010001': 0, '000110101': 0, '010110101': 0, '000000011': 0, '000010011': 0, '000000101': 0, '111000001': 0, '000010111': 0, '010110011': 0, '010000111': 0, '100000101': 0, '000000001': 0, '110010101': 0, '011010011': 0, '000111101': 0, '010110111': 0}\n"
     ]
    }
   ],
   "source": [
    "from classiq import (\n",
    "    Constraints,\n",
    "    Preferences,\n",
    "    set_constraints,\n",
    "    set_preferences,\n",
    "    show,\n",
    "    write_qmod,\n",
    ")\n",
    "\n",
    "constraints = Constraints(optimization_parameter=\"depth\", max_width=9)\n",
    "\n",
    "preferences = Preferences(random_seed=424788457)\n",
    "qmod = set_constraints(qmod, constraints)\n",
    "qmod = set_preferences(qmod, preferences)\n",
    "\n",
    "qprog = synthesize(qmod)\n",
    "show(qprog)\n",
    "\n",
    "circuit = generateQiskitCircuit(qprog)\n",
    "\n",
    "# Run the Circuit using Automatski' Quantum Simulators and Quantum Computers\n",
    "# No need for transpiling with any transpiler\n",
    "backend = AutomatskiKomencoQiskit(host=\"103.212.120.18\", port=80)\n",
    "\n",
    "# Run the circuit and get results\n",
    "result_sim = backend.run(circuit, repetitions=1000, topK=20)\n",
    "\n",
    "counts = result_sim.get_counts(None)\n",
    "print(counts)\n",
    "print(\"The result of the arithmetic calculation: \", counts)\n",
    "\n",
    "\n",
    "write_qmod(qmod, \"arithmetic_demo_9_qubits\")"
   ]
  },
  {
   "cell_type": "markdown",
   "id": "2397fbdd-3a20-4e8f-bc53-6ff7b588b7ee",
   "metadata": {},
   "source": [
    "Change the quantum model constraint to treat the second scenario for optimizing over depth and constraining the maximal width to 12 qubits: "
   ]
  },
  {
   "cell_type": "code",
   "execution_count": 4,
   "id": "77d24a43-5114-46a0-8309-33af8fdc75fb",
   "metadata": {},
   "outputs": [
    {
     "name": "stdout",
     "output_type": "stream",
     "text": [
      "Opening: https://platform.classiq.io/circuit/f8bff5ca-6ec5-40e7-973e-5afece51fd7b?version=0.59.0\n",
      "Executing Quantum Circuit With...\n",
      "12 Qubits And ...\n",
      "481 Gates\n",
      "Time Taken 0:00:00.156999\n",
      "{'000000100110': 1000, '101010010100': 0, '100000100110': 0, '001110110101': 0, '101110100101': 0, '101000110110': 0, '000010100110': 0, '000010100100': 0, '000000101110': 0, '001100110111': 0, '101100100111': 0, '000000101101': 0, '101100010110': 0, '000100110111': 0, '100110000110': 0, '000000100100': 0, '010000100110': 0, '000000000100': 0, '000100010111': 0, '000000100111': 0}\n",
      "The result of the arithmetic calculation:  {'000000100110': 1000, '101010010100': 0, '100000100110': 0, '001110110101': 0, '101110100101': 0, '101000110110': 0, '000010100110': 0, '000010100100': 0, '000000101110': 0, '001100110111': 0, '101100100111': 0, '000000101101': 0, '101100010110': 0, '000100110111': 0, '100110000110': 0, '000000100100': 0, '010000100110': 0, '000000000100': 0, '000100010111': 0, '000000100111': 0}\n"
     ]
    }
   ],
   "source": [
    "constraints = Constraints(optimization_parameter=\"depth\", max_width=12)\n",
    "qmod = set_constraints(qmod, constraints)\n",
    "\n",
    "qprog = synthesize(qmod)\n",
    "show(qprog)\n",
    "\n",
    "circuit = generateQiskitCircuit(qprog)\n",
    "\n",
    "# Run the Circuit using Automatski' Quantum Simulators and Quantum Computers\n",
    "# No need for transpiling with any transpiler\n",
    "backend = AutomatskiKomencoQiskit(host=\"103.212.120.18\", port=80)\n",
    "\n",
    "# Run the circuit and get results\n",
    "result_sim = backend.run(circuit, repetitions=1000, topK=20)\n",
    "\n",
    "counts = result_sim.get_counts(None)\n",
    "print(counts)\n",
    "print(\"The result of the arithmetic calculation: \", counts)\n",
    "\n",
    "\n",
    "write_qmod(qmod, \"arithmetic_demo_12_qubits\")"
   ]
  },
  {
   "cell_type": "markdown",
   "id": "ad94a769",
   "metadata": {},
   "source": [
    " ### Mathematical Background\n",
    " \n",
    " The given mathematical expression:\n",
    " $$z = (2 \\cdot x + y + \\max(3 \\cdot y, 2)) > 4$$ \n",
    " is solved by the automatic arithmetic operation management, optimizing over depth and constraining the maximal width to 9 and 12 qubits, which outputs the value for z.\n",
    " \n",
    " __The `parsed_counts` result:__\n",
    " - Optimizing over depth and constraining the maximal width to 9 qubits: `[{'z': 1.0}: 2048]`\n",
    " - Optimizing over depth and constraining the maximal width to 12 qubits: `[{'z': 1.0}: 2048]`\n",
    "\n",
    "Both the result are same which verifies the arithmetic expression to be True.\n",
    " \n",
    " __The expected result__:<br>\n",
    " \n",
    " Allocated values:\n",
    " \n",
    " $$x = 2, \\,\\,\\, y = 1$$\n",
    " \n",
    " \n",
    " Expression Calculation:\n",
    "\n",
    " $$2 \\cdot x + y = 2 \\cdot 2 + 1 = 4 + 1 = 5 \\,\\,\\, 3 \\cdot y = 3 \\cdot 1 = 3 \\,\\,\\, \\max(3 \\cdot y, 2) = \\max(3, 2) = 3$$\n",
    " \n",
    " Therefore:\n",
    " \n",
    " $$2 \\cdot x + y + \\max(3 \\cdot y, 2) = 5 + 3 = 8$$\n",
    " \n",
    " As $$8 > 4 \\implies \\text{True}$$\n",
    " z is assigned the value True : $z \\implies 1$"
   ]
  },
  {
   "cell_type": "code",
   "execution_count": null,
   "id": "6115ec77-8405-42e2-b0d3-a00b163deb63",
   "metadata": {},
   "outputs": [],
   "source": []
  }
 ],
 "metadata": {
  "kernelspec": {
   "display_name": "Python 3 (ipykernel)",
   "language": "python",
   "name": "python3"
  },
  "language_info": {
   "codemirror_mode": {
    "name": "ipython",
    "version": 3
   },
   "file_extension": ".py",
   "mimetype": "text/x-python",
   "name": "python",
   "nbconvert_exporter": "python",
   "pygments_lexer": "ipython3",
   "version": "3.11.0"
  }
 },
 "nbformat": 4,
 "nbformat_minor": 5
}
