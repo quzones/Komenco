{
 "cells": [
  {
   "cell_type": "markdown",
   "metadata": {
    "tags": [
     "remove_cell"
    ]
   },
   "source": [
    "# Quantum Fourier Transform"
   ]
  },
  {
   "cell_type": "markdown",
   "metadata": {},
   "source": [
    "In this tutorial, we introduce the quantum fourier transform (QFT), derive the circuit, and implement it using Qiskit. We show how to run QFT on a simulator and a five qubit device."
   ]
  },
  {
   "cell_type": "markdown",
   "metadata": {},
   "source": [
    "## 1. Introduction <a id='introduction'></a>\n",
    "\n",
    "The Fourier transform occurs in many different versions throughout classical computing, in areas ranging from signal processing to data compression to complexity theory. The quantum Fourier transform (QFT) is the quantum implementation of the discrete Fourier transform over the amplitudes of a wavefunction. It is part of many quantum algorithms, most notably Shor's factoring algorithm and quantum phase estimation. \n",
    "\n",
    "The discrete Fourier transform acts on a vector $(x_0, ..., x_{N-1})$ and maps it to the vector $(y_0, ..., y_{N-1})$ according to the formula\n",
    "\n",
    "\n",
    "$$y_k = \\frac{1}{\\sqrt{N}}\\sum_{j=0}^{N-1}x_j\\omega_N^{jk}$$\n",
    "\n",
    "\n",
    "where $\\omega_N^{jk} = e^{2\\pi i \\frac{jk}{N}}$.\n",
    "\n",
    "Similarly, the quantum Fourier transform acts on a quantum state $\\vert X\\rangle = \\sum_{j=0}^{N-1} x_j \\vert j \\rangle$ and maps it to the quantum state $\\vert Y\\rangle = \\sum_{k=0}^{N-1} y_k \\vert k \\rangle$ according to the formula\n",
    "\n",
    "\n",
    "$$y_k = \\frac{1}{\\sqrt{N}}\\sum_{j=0}^{N-1}x_j\\omega_N^{jk}$$\n",
    "\n",
    "\n",
    "with $\\omega_N^{jk}$ defined as above. Note that only the amplitudes of the state were affected by this transformation.\n",
    "\n",
    "This can also be expressed as the map:\n",
    "\n",
    "\n",
    "$$\\vert j \\rangle \\mapsto \\frac{1}{\\sqrt{N}}\\sum_{k=0}^{N-1}\\omega_N^{jk} \\vert k \\rangle$$\n",
    "\n",
    "\n",
    "\n",
    "Or the unitary matrix:\n",
    "\n",
    "\n",
    "$$ U_{QFT} = \\frac{1}{\\sqrt{N}} \\sum_{j=0}^{N-1} \\sum_{k=0}^{N-1} \\omega_N^{jk} \\vert k \\rangle \\langle j \\vert$$\n",
    "\n"
   ]
  },
  {
   "cell_type": "markdown",
   "metadata": {},
   "source": [
    "## 2. Intuition <a id=\"intuition\"></a>\n",
    "\n",
    "The quantum Fourier transform (QFT) transforms between two bases, the computational (Z) basis, and the Fourier basis. The H-gate is the single-qubit QFT, and it transforms between the Z-basis states $|0\\rangle$ and $|1\\rangle$ to the X-basis states $|{+}\\rangle$ and $|{-}\\rangle$. In the same way, all multi-qubit states in the computational basis have corresponding states in the Fourier basis. The QFT is simply the function that transforms between these bases.\n",
    "\n",
    "$$\n",
    "|\\text{State in Computational Basis}\\rangle \\quad \\xrightarrow[]{\\text{QFT}} \\quad |\\text{State in Fourier Basis}\\rangle\n",
    "$$\n",
    "\n",
    "$$\n",
    "\\text{QFT}|x\\rangle = |\\widetilde{x}\\rangle\n",
    "$$\n",
    "\n",
    "(We often note states in the Fourier basis using the tilde (~)).\n",
    "\n",
    "### 2.1 Counting in the Fourier basis: <a id=\"counting-fourier\"></a>\n",
    "\n",
    "In the computational basis, we store numbers in binary using the states $|0\\rangle$ and $|1\\rangle$:\n",
    "\n",
    "![zbasiscounting](images/zbasis-counting.gif)\n",
    "\n",
    "Note the frequency with which the different qubits change; the leftmost qubit flips with every increment in the number, the next with every 2 increments, the third with every 4 increments, and so on. In the Fourier basis, we store numbers using different rotations around the Z-axis:\n",
    "\n",
    "![fbasiscounting](images/fourierbasis-counting.gif)\n",
    "\n",
    "The number we want to store dictates the angle at which each qubit is rotated around the Z-axis. In the state $|\\widetilde{0}\\rangle$, all qubits are in the state $|{+}\\rangle$. As seen in the example above, to encode the state $|\\widetilde{5}\\rangle$ on 4 qubits, we rotated the leftmost qubit by $\\tfrac{5}{2^n} = \\tfrac{5}{16}$ full turns ($\\tfrac{5}{16}\\times 2\\pi$ radians). The next qubit is turned double this ($\\tfrac{10}{16}\\times 2\\pi$ radians, or $10/16$ full turns), this angle is then doubled for the qubit after, and so on. \n",
    "\n",
    "Again, note the frequency with which each qubit changes. The leftmost qubit (`qubit 0`) in this case has the lowest frequency, and the rightmost the highest. \n"
   ]
  },
  {
   "cell_type": "markdown",
   "metadata": {},
   "source": [
    "## 3. Example 1: 1-qubit QFT <a id='example1'></a>\n",
    "\n",
    "Consider how the QFT operator as defined above acts on a single qubit state $\\vert\\psi\\rangle = \\alpha \\vert 0 \\rangle + \\beta \\vert 1 \\rangle$. In this case, $x_0 = \\alpha$, $x_1 = \\beta$, and $N = 2$. Then,\n",
    "\n",
    "\n",
    "\n",
    "$$y_0 = \\frac{1}{\\sqrt{2}}\\left(    \\alpha \\exp\\left(2\\pi i\\frac{0\\times0}{2}\\right) + \\beta \\exp\\left(2\\pi i\\frac{1\\times0}{2}\\right)      \\right) = \\frac{1}{\\sqrt{2}}\\left(\\alpha + \\beta\\right)$$\n",
    "\n",
    "\n",
    "\n",
    "and\n",
    "\n",
    "\n",
    "\n",
    "$$y_1 = \\frac{1}{\\sqrt{2}}\\left(    \\alpha \\exp\\left(2\\pi i\\frac{0\\times1}{2}\\right) + \\beta \\exp\\left(2\\pi i\\frac{1\\times1}{2}\\right)      \\right) = \\frac{1}{\\sqrt{2}}\\left(\\alpha - \\beta\\right)$$\n",
    "\n",
    "\n",
    "\n",
    "such that the final result is the state \n",
    "\n",
    "\n",
    "\n",
    "$$U_{QFT}\\vert\\psi\\rangle = \\frac{1}{\\sqrt{2}}(\\alpha + \\beta) \\vert 0 \\rangle + \\frac{1}{\\sqrt{2}}(\\alpha - \\beta)  \\vert 1 \\rangle$$\n",
    "\n",
    "\n",
    "\n",
    "This operation is exactly the result of applying the Hadamard operator ($H$) on the qubit:\n",
    "\n",
    "\n",
    "\n",
    "$$H = \\frac{1}{\\sqrt{2}}\\begin{bmatrix} 1 & 1 \\\\ 1 & -1 \\end{bmatrix}$$\n",
    "\n",
    "\n",
    "\n",
    "If we apply the $H$ operator to the state $\\vert\\psi\\rangle = \\alpha \\vert 0 \\rangle + \\beta \\vert 1 \\rangle$, we obtain the new state:\n",
    "\n",
    "$$\\frac{1}{\\sqrt{2}}(\\alpha + \\beta) \\vert 0 \\rangle + \\frac{1}{\\sqrt{2}}(\\alpha - \\beta)  \\vert 1 \\rangle \n",
    "\\equiv \\tilde{\\alpha}\\vert 0 \\rangle + \\tilde{\\beta}\\vert 1 \\rangle$$\n",
    "\n",
    "Notice how the Hadamard gate performs the discrete Fourier transform for $N = 2$ on the amplitudes of the state. "
   ]
  },
  {
   "cell_type": "markdown",
   "metadata": {},
   "source": [
    "## 4. The Quantum Fourier transform<a id=\"qfteqn\"></a>"
   ]
  },
  {
   "cell_type": "markdown",
   "metadata": {},
   "source": [
    "So what does the quantum Fourier transform look like for larger $N$? Let's derive a transformation for $N=2^n$, $QFT_N$ acting on the state $\\vert x \\rangle = \\vert x_1\\ldots x_n \\rangle$ where $x_1$ is the most significant bit. This maths is here for those that find it useful, if you struggle with it then don’t worry; as long as you understand the intuition in section 2 then you can continue straight to the next section.\n",
    "\n",
    "$$\n",
    "\\begin{aligned}\n",
    "QFT_N\\vert x \\rangle & = \\frac{1}{\\sqrt{N}} \\sum_{y=0}^{N-1}\\omega_N^{xy} \\vert y \\rangle \n",
    "\\\\\n",
    "& = \\frac{1}{\\sqrt{N}} \\sum_{y=0}^{N-1} e^{2 \\pi i xy / 2^n} \\vert y \\rangle ~\\text{since}\\: \\omega_N^{xy} = e^{2\\pi i \\frac{xy}{N}} \\:\\text{and}\\: N = 2^n \n",
    "\\\\\n",
    "& = \\frac{1}{\\sqrt{N}} \\sum_{y=0}^{N-1} e^{2 \\pi i \\left(\\sum_{k=1}^n y_k/2^k\\right) x} \\vert y_1 \\ldots y_n \\rangle \\:\\text{rewriting in fractional binary notation}\\: y = y_1\\ldots y_n, y/2^n = \\sum_{k=1}^n y_k/2^k \n",
    "\\\\\n",
    "& = \\frac{1}{\\sqrt{N}} \\sum_{y=0}^{N-1} \\prod_{k=1}^n e^{2 \\pi i x y_k/2^k } \\vert y_1 \\ldots y_n \\rangle \\:\\text{after expanding the exponential of a sum to a product of exponentials} \n",
    "\\\\\n",
    "& = \\frac{1}{\\sqrt{N}} \\bigotimes_{k=1}^n  \\left(\\vert0\\rangle + e^{2 \\pi i x /2^k } \\vert1\\rangle \\right) \\:\\text{after rearranging the sum and products, and expanding} \n",
    "\\sum_{y=0}^{N-1} = \\sum_{y_1=0}^{1}\\sum_{y_2=0}^{1}\\ldots\\sum_{y_n=0}^{1} \n",
    "\\\\\n",
    "& = \\frac{1}{\\sqrt{N}}\n",
    "\\left(\\vert0\\rangle + e^{\\frac{2\\pi i}{2}x} \\vert1\\rangle\\right) \n",
    "\\otimes\n",
    "\\left(\\vert0\\rangle + e^{\\frac{2\\pi i}{2^2}x} \\vert1\\rangle\\right) \n",
    "\\otimes  \n",
    "\\ldots\n",
    "\\otimes\n",
    "\\left(\\vert0\\rangle + e^{\\frac{2\\pi i}{2^{n-1}}x} \\vert1\\rangle\\right) \n",
    "\\otimes\n",
    "\\left(\\vert0\\rangle + e^{\\frac{2\\pi i}{2^n}x} \\vert1\\rangle\\right) \n",
    "\\end{aligned}\n",
    "$$\n",
    "\n",
    "This is a mathematical description of the animation we saw in the intuition section:\n",
    "\n",
    "![fbasiscounting](images/fourierbasis-counting.gif)"
   ]
  },
  {
   "cell_type": "markdown",
   "metadata": {},
   "source": [
    "## 5. The Circuit that Implements the QFT <a name=\"circuit\"></a>\n",
    "\n",
    "The circuit that implements QFT makes use of two gates. The first one is a single-qubit Hadamard gate, $H$, that you already know. From the discussion in [Example 1](#example1) above, you have already seen that the action of $H$ on the single-qubit state $\\vert x_k\\rangle$ is\n",
    "\n",
    "\n",
    "\n",
    "$$H\\vert x_k \\rangle = \\frac{1}{\\sqrt{2}}\\left(\\vert0\\rangle + \\exp\\left(\\frac{2\\pi i}{2}x_k\\right)\\vert1\\rangle\\right)$$\n",
    "\n",
    "\n",
    "\n",
    "The second is a two-qubit controlled rotation $CROT_k$ given in block-diagonal form as \n",
    "\n",
    "$$CROT_k = \\left[\\begin{matrix}\n",
    "I&0\\\\\n",
    "0&UROT_k\\\\\n",
    "\\end{matrix}\\right]$$\n",
    "\n",
    "where \n",
    "\n",
    "$$UROT_k = \\left[\\begin{matrix}\n",
    "1&0\\\\\n",
    "0&\\exp\\left(\\frac{2\\pi i}{2^k}\\right)\\\\\n",
    "\\end{matrix}\\right]$$\n",
    "\n",
    "The action of $CROT_k$ on a two-qubit state $\\vert x_l x_j\\rangle$ where the first qubit is the control and the second is the target is given by\n",
    "\n",
    "\n",
    "\n",
    "$$CROT_k\\vert 0x_j\\rangle = \\vert 0x_j\\rangle$$\n",
    "\n",
    "\n",
    "and\n",
    "\n",
    "\n",
    "$$CROT_k\\vert 1x_j\\rangle = \\exp\\left( \\frac{2\\pi i}{2^k}x_j \\right)\\vert 1x_j\\rangle$$\n",
    "\n",
    "\n",
    "\n",
    "Given these two gates, a circuit that implements [an n-qubit QFT](#qfteqn) is shown below.\n",
    "\n",
    "![image1](images/qft.png)\n",
    "\n",
    "The circuit operates as follows. We start with an n-qubit input state $\\vert x_1x_2\\ldots x_n\\rangle$.\n",
    "\n",
    "<ol>\n",
    "<li> After the first Hadamard gate on qubit 1, the state is transformed from the input state to \n",
    "\n",
    "$$\n",
    "H_1\\vert x_1x_2\\ldots x_n\\rangle = \n",
    "\\frac{1}{\\sqrt{2}}\n",
    "\\left[\\vert0\\rangle + \\exp\\left(\\frac{2\\pi i}{2}x_1\\right)\\vert1\\rangle\\right]\n",
    "\\otimes\n",
    "\\vert x_2x_3\\ldots x_n\\rangle\n",
    "$$\n",
    "\n",
    "<li> After the $UROT_2$ gate on qubit 1 controlled by qubit 2, the state is transformed to\n",
    "\n",
    "$$\n",
    "\\frac{1}{\\sqrt{2}}\n",
    "\\left[\\vert0\\rangle + \\exp\\left(\\frac{2\\pi i}{2^2}x_2 + \\frac{2\\pi i}{2}x_1\\right)\\vert1\\rangle\\right]\n",
    "\\otimes\n",
    "\\vert x_2x_3\\ldots x_n\\rangle\n",
    "$$\n",
    "\n",
    "<li> After the application of the last $UROT_n$ gate on qubit 1 controlled by qubit $n$, the state becomes\n",
    "\n",
    "$$\n",
    "\\frac{1}{\\sqrt{2}}\n",
    "\\left[\\vert0\\rangle + \n",
    "\\exp\\left(\n",
    "\\frac{2\\pi i}{2^n}x_n + \n",
    "\\frac{2\\pi i}{2^{n-1}}x_{n-1} + \n",
    "\\ldots + \n",
    "\\frac{2\\pi i}{2^2}x_2 + \n",
    "\\frac{2\\pi i}{2}x_1\n",
    "\\right)\n",
    "\\vert1\\rangle\\right]\n",
    "\\otimes\n",
    "\\vert x_2x_3\\ldots x_n\\rangle\n",
    "$$\n",
    "\n",
    "Noting that \n",
    "\n",
    "$$\n",
    "x = 2^{n-1}x_1 + 2^{n-2}x_2 + \\ldots + 2^1x_{n-1} + 2^0x_n\n",
    "$$\n",
    "\n",
    "we can write the above state as \n",
    "\n",
    "$$\n",
    "\\frac{1}{\\sqrt{2}}\n",
    "\\left[\\vert0\\rangle + \n",
    "\\exp\\left(\n",
    "\\frac{2\\pi i}{2^n}x \n",
    "\\right)\n",
    "\\vert1\\rangle\\right]\n",
    "\\otimes\n",
    "\\vert x_2x_3\\ldots x_n\\rangle\n",
    "$$\n",
    "\n",
    "<li> After the application of a similar sequence of gates for qubits $2\\ldots n$, we find the final state to be:\n",
    "\n",
    "$$\n",
    "\\frac{1}{\\sqrt{2}}\n",
    "\\left[\\vert0\\rangle + \n",
    "\\exp\\left(\n",
    "\\frac{2\\pi i}{2^n}x \n",
    "\\right)\n",
    "\\vert1\\rangle\\right]\n",
    "\\otimes\n",
    "\\frac{1}{\\sqrt{2}}\n",
    "\\left[\\vert0\\rangle + \n",
    "\\exp\\left(\n",
    "\\frac{2\\pi i}{2^{n-1}}x \n",
    "\\right)\n",
    "\\vert1\\rangle\\right]\n",
    "\\otimes\n",
    "\\ldots\n",
    "\\otimes\n",
    "\\frac{1}{\\sqrt{2}}\n",
    "\\left[\\vert0\\rangle + \n",
    "\\exp\\left(\n",
    "\\frac{2\\pi i}{2^{2}}x \n",
    "\\right)\n",
    "\\vert1\\rangle\\right]\n",
    "\\otimes\n",
    "\\frac{1}{\\sqrt{2}}\n",
    "\\left[\\vert0\\rangle + \n",
    "\\exp\\left(\n",
    "\\frac{2\\pi i}{2^{1}}x \n",
    "\\right)\n",
    "\\vert1\\rangle\\right]\n",
    "$$\n",
    "\n",
    "which is exactly the QFT of the input state as derived <a href=\"#qfteqn\">above</a> with the caveat that the order of the qubits is reversed in the output state.\n",
    "</ol>"
   ]
  },
  {
   "cell_type": "markdown",
   "metadata": {},
   "source": [
    "## 6. Example 2: 3-qubit QFT <a id='example2'></a>\n",
    "\n",
    "The steps to creating the circuit for $\\vert y_3y_2y_1\\rangle = QFT_8\\vert x_3x_2x_1\\rangle$ would be:\n",
    "\n",
    "<ol>\n",
    "<li> Apply a Hadamard gate to $\\vert x_1 \\rangle$\n",
    "\n",
    "$$\n",
    "|\\psi_1\\rangle = \n",
    "\\vert x_3\\rangle\n",
    "\\otimes\n",
    "\\vert x_2\\rangle\n",
    "\\otimes\n",
    "\\frac{1}{\\sqrt{2}}\n",
    "\\left[\n",
    "\\vert0\\rangle + \n",
    "\\exp\\left(\\frac{2\\pi i}{2}x_1\\right) \n",
    "\\vert1\\rangle\\right]\n",
    "$$\n",
    "\n",
    "<li> Apply a $UROT_2$ gate to $\\vert x_1\\rangle$ depending on $\\vert x_2\\rangle$\n",
    "\n",
    "$$\n",
    "|\\psi_2\\rangle = \n",
    "\\vert x_3\\rangle\n",
    "\\otimes\n",
    "\\vert x_2\\rangle\n",
    "\\otimes\n",
    "\\frac{1}{\\sqrt{2}}\n",
    "\\left[\n",
    "\\vert0\\rangle + \n",
    "\\exp\\left(\n",
    "\\frac{2\\pi i}{2^2}x_2 + \\frac{2\\pi i}{2}x_1\n",
    "\\right) \n",
    "\\vert1\\rangle\\right]\n",
    "$$\n",
    "\n",
    "<li> Apply a $UROT_3$ gate to $\\vert x_1\\rangle$ depending on $\\vert x_3\\rangle$\n",
    "\n",
    "$$\n",
    "|\\psi_3\\rangle = \n",
    "\\vert x_3\\rangle\n",
    "\\otimes\n",
    "\\vert x_2\\rangle\n",
    "\\otimes\n",
    "\\frac{1}{\\sqrt{2}}\n",
    "\\left[\n",
    "\\vert0\\rangle + \n",
    "\\exp\\left(\n",
    "\\frac{2\\pi i}{2^3}x_3 + \\frac{2\\pi i}{2^2}x_2 + \\frac{2\\pi i}{2}x_1\n",
    "\\right) \n",
    "\\vert1\\rangle\\right]\n",
    "$$\n",
    "\n",
    "<li> Apply a Hadamard gate to $\\vert x_2 \\rangle$\n",
    "\n",
    "$$\n",
    "|\\psi_4\\rangle = \n",
    "\\vert x_3\\rangle\n",
    "\\otimes\n",
    "\\frac{1}{\\sqrt{2}}\n",
    "\\left[\n",
    "\\vert0\\rangle + \n",
    "\\exp\\left(\n",
    "\\frac{2\\pi i}{2}x_2\n",
    "\\right) \n",
    "\\vert1\\rangle\\right]\n",
    "\\otimes\n",
    "\\frac{1}{\\sqrt{2}}\n",
    "\\left[\n",
    "\\vert0\\rangle + \n",
    "\\exp\\left(\n",
    "\\frac{2\\pi i}{2^3}x_3 + \\frac{2\\pi i}{2^2}x_2 + \\frac{2\\pi i}{2}x_1\n",
    "\\right) \n",
    "\\vert1\\rangle\\right]\n",
    "$$\n",
    "\n",
    "<li> Apply a $UROT_2$ gate to $\\vert x_2\\rangle$ depending on $\\vert x_3\\rangle$\n",
    "\n",
    "$$\n",
    "|\\psi_5\\rangle = \n",
    "\\vert x_3\\rangle\n",
    "\\otimes\n",
    "\\frac{1}{\\sqrt{2}}\n",
    "\\left[\n",
    "\\vert0\\rangle + \n",
    "\\exp\\left(\n",
    "\\frac{2\\pi i}{2^2}x_3 + \\frac{2\\pi i}{2}x_2\n",
    "\\right) \n",
    "\\vert1\\rangle\\right]\n",
    "\\otimes\n",
    "\\frac{1}{\\sqrt{2}}\n",
    "\\left[\n",
    "\\vert0\\rangle + \n",
    "\\exp\\left(\n",
    "\\frac{2\\pi i}{2^3}x_3 + \\frac{2\\pi i}{2^2}x_2 + \\frac{2\\pi i}{2}x_1\n",
    "\\right) \n",
    "\\vert1\\rangle\\right]\n",
    "$$\n",
    "\n",
    "<li> Apply a Hadamard gate to $\\vert x_3\\rangle$\n",
    "\n",
    "$$\n",
    "|\\psi_6\\rangle = \n",
    "\\frac{1}{\\sqrt{2}}\n",
    "\\left[\n",
    "\\vert0\\rangle + \n",
    "\\exp\\left(\n",
    "\\frac{2\\pi i}{2}x_3\n",
    "\\right) \n",
    "\\vert1\\rangle\\right]\n",
    "\\otimes\n",
    "\\frac{1}{\\sqrt{2}}\n",
    "\\left[\n",
    "\\vert0\\rangle + \n",
    "\\exp\\left(\n",
    "\\frac{2\\pi i}{2^2}x_3 + \\frac{2\\pi i}{2}x_2\n",
    "\\right) \n",
    "\\vert1\\rangle\\right]\n",
    "\\otimes\n",
    "\\frac{1}{\\sqrt{2}}\n",
    "\\left[\n",
    "\\vert0\\rangle + \n",
    "\\exp\\left(\n",
    "\\frac{2\\pi i}{2^3}x_3 + \\frac{2\\pi i}{2^2}x_2 + \\frac{2\\pi i}{2}x_1\n",
    "\\right) \n",
    "\\vert1\\rangle\\right]\n",
    "$$\n",
    "\n",
    "\n",
    "<li> Keep in mind the reverse order of the output state relative to the desired QFT. Therefore, we must reverse the order of the qubits (in this case swap $y_1$ and $y_3$)."
   ]
  },
  {
   "cell_type": "markdown",
   "metadata": {},
   "source": [
    "## 7. Some Notes About the Form of the QFT Circuit <a id=\"formnote\"></a>"
   ]
  },
  {
   "cell_type": "markdown",
   "metadata": {},
   "source": [
    "The example above demonstrates a very useful form of the QFT for $N=2^n$. Note that only the last qubit depends on the values of all the other input qubits and each further bit depends less and less on the input qubits. This becomes important in physical implementations of the QFT, where nearest-neighbor couplings are easier to achieve than distant couplings between qubits.\n",
    "\n",
    "Additionally, as the QFT circuit becomes large, an increasing amount of time is spent doing increasingly slight rotations. It turns out that we can ignore rotations below a certain threshold and still get decent results, this is known as the approximate QFT. This is also important in physical implementations, as reducing the number of operations can greatly reduce decoherence and potential gate errors.  "
   ]
  },
  {
   "cell_type": "markdown",
   "metadata": {},
   "source": [
    "## 8. Qiskit Implementation<a id='implementation'></a>\n",
    "\n",
    "In Qiskit, the implementation of the $CROT$ gate used in the discussion above is a controlled phase rotation gate. This gate is defined in [OpenQASM](https://github.com/QISKit/openqasm) as\n",
    "\n",
    "$$\n",
    "CP(\\theta) =\n",
    "\\begin{bmatrix} 1 & 0 & 0 & 0 \\\\ 0 & 1 & 0 & 0 \\\\ 0 & 0 & 1 & 0 \\\\ 0 & 0 & 0 & e^{i\\theta}\\end{bmatrix}\n",
    "$$\n",
    "\n",
    "Hence, the mapping from the $CROT_k$ gate in the discussion above into the $CP$ gate is found from the equation\n",
    "\n",
    "$$\n",
    "\\theta = 2\\pi/2^k = \\pi/2^{k-1}\n",
    "$$\n",
    "\n",
    "### 8.1 Example on 3 Qubits <a id=\"threeqft\"></a>"
   ]
  },
  {
   "cell_type": "code",
   "execution_count": 1,
   "metadata": {},
   "outputs": [],
   "source": [
    "import numpy as np\n",
    "from numpy import pi\n",
    "# importing Qiskit\n",
    "from qiskit import QuantumCircuit\n",
    "from qiskit.visualization import plot_histogram, plot_bloch_multivector"
   ]
  },
  {
   "cell_type": "markdown",
   "metadata": {},
   "source": [
    "It is useful to work out the relevant code for the 3-qubit case before generalizing to the $n$-qubit case. First, we must define our quantum circuit:"
   ]
  },
  {
   "cell_type": "code",
   "execution_count": 2,
   "metadata": {},
   "outputs": [],
   "source": [
    "qc = QuantumCircuit(3)"
   ]
  },
  {
   "cell_type": "markdown",
   "metadata": {},
   "source": [
    "**Note**: Remember that Qiskit's least significant bit has the lowest index (0), thus the circuit will be mirrored through the horizontal in relation to the image in section 5. First, we apply a H-gate to qubit 2 :"
   ]
  },
  {
   "cell_type": "code",
   "execution_count": 3,
   "metadata": {},
   "outputs": [
    {
     "data": {
      "text/html": [
       "<pre style=\"word-wrap: normal;white-space: pre;background: #fff0;line-height: 1.1;font-family: &quot;Courier New&quot;,Courier,monospace\">          \n",
       "q_0: ─────\n",
       "          \n",
       "q_1: ─────\n",
       "     ┌───┐\n",
       "q_2: ┤ H ├\n",
       "     └───┘</pre>"
      ],
      "text/plain": [
       "          \n",
       "q_0: ─────\n",
       "          \n",
       "q_1: ─────\n",
       "     ┌───┐\n",
       "q_2: ┤ H ├\n",
       "     └───┘"
      ]
     },
     "execution_count": 3,
     "metadata": {},
     "output_type": "execute_result"
    }
   ],
   "source": [
    "qc.h(2)\n",
    "qc.draw()"
   ]
  },
  {
   "cell_type": "markdown",
   "metadata": {},
   "source": [
    "Next, we want to turn this an extra quarter turn if qubit 1 is in the state $|1\\rangle$:"
   ]
  },
  {
   "cell_type": "code",
   "execution_count": 4,
   "metadata": {},
   "outputs": [
    {
     "data": {
      "text/html": [
       "<pre style=\"word-wrap: normal;white-space: pre;background: #fff0;line-height: 1.1;font-family: &quot;Courier New&quot;,Courier,monospace\">                   \n",
       "q_0: ──────────────\n",
       "                   \n",
       "q_1: ──────■───────\n",
       "     ┌───┐ │P(π/2) \n",
       "q_2: ┤ H ├─■───────\n",
       "     └───┘         </pre>"
      ],
      "text/plain": [
       "                   \n",
       "q_0: ──────────────\n",
       "                   \n",
       "q_1: ──────■───────\n",
       "     ┌───┐ │P(π/2) \n",
       "q_2: ┤ H ├─■───────\n",
       "     └───┘         "
      ]
     },
     "execution_count": 4,
     "metadata": {},
     "output_type": "execute_result"
    }
   ],
   "source": [
    "qc.cp(pi/2, 1, 2) # CROT from qubit 1 to qubit 2\n",
    "qc.draw()"
   ]
  },
  {
   "cell_type": "markdown",
   "metadata": {},
   "source": [
    "And another eighth turn if the least significant qubit (0) is $|1\\rangle$:"
   ]
  },
  {
   "cell_type": "code",
   "execution_count": 5,
   "metadata": {},
   "outputs": [
    {
     "data": {
      "text/html": [
       "<pre style=\"word-wrap: normal;white-space: pre;background: #fff0;line-height: 1.1;font-family: &quot;Courier New&quot;,Courier,monospace\">                            \n",
       "q_0: ───────────────■───────\n",
       "                    │       \n",
       "q_1: ──────■────────┼───────\n",
       "     ┌───┐ │P(π/2)  │P(π/4) \n",
       "q_2: ┤ H ├─■────────■───────\n",
       "     └───┘                  </pre>"
      ],
      "text/plain": [
       "                            \n",
       "q_0: ───────────────■───────\n",
       "                    │       \n",
       "q_1: ──────■────────┼───────\n",
       "     ┌───┐ │P(π/2)  │P(π/4) \n",
       "q_2: ┤ H ├─■────────■───────\n",
       "     └───┘                  "
      ]
     },
     "execution_count": 5,
     "metadata": {},
     "output_type": "execute_result"
    }
   ],
   "source": [
    "qc.cp(pi/4, 0, 2) # CROT from qubit 2 to qubit 0\n",
    "qc.draw()"
   ]
  },
  {
   "cell_type": "markdown",
   "metadata": {},
   "source": [
    "With that qubit taken care of, we can now ignore it and repeat the process, using the same logic for qubits 0 and 1:"
   ]
  },
  {
   "cell_type": "code",
   "execution_count": 6,
   "metadata": {},
   "outputs": [
    {
     "data": {
      "text/html": [
       "<pre style=\"word-wrap: normal;white-space: pre;background: #fff0;line-height: 1.1;font-family: &quot;Courier New&quot;,Courier,monospace\">                                          ┌───┐\n",
       "q_0: ───────────────■─────────────■───────┤ H ├\n",
       "                    │       ┌───┐ │P(π/2) └───┘\n",
       "q_1: ──────■────────┼───────┤ H ├─■────────────\n",
       "     ┌───┐ │P(π/2)  │P(π/4) └───┘              \n",
       "q_2: ┤ H ├─■────────■──────────────────────────\n",
       "     └───┘                                     </pre>"
      ],
      "text/plain": [
       "                                          ┌───┐\n",
       "q_0: ───────────────■─────────────■───────┤ H ├\n",
       "                    │       ┌───┐ │P(π/2) └───┘\n",
       "q_1: ──────■────────┼───────┤ H ├─■────────────\n",
       "     ┌───┐ │P(π/2)  │P(π/4) └───┘              \n",
       "q_2: ┤ H ├─■────────■──────────────────────────\n",
       "     └───┘                                     "
      ]
     },
     "execution_count": 6,
     "metadata": {},
     "output_type": "execute_result"
    }
   ],
   "source": [
    "qc.h(1)\n",
    "qc.cp(pi/2, 0, 1) # CROT from qubit 0 to qubit 1\n",
    "qc.h(0)\n",
    "qc.draw()"
   ]
  },
  {
   "cell_type": "markdown",
   "metadata": {},
   "source": [
    "Finally we must swap the qubits 0 and 2 to complete the QFT:"
   ]
  },
  {
   "cell_type": "code",
   "execution_count": 7,
   "metadata": {},
   "outputs": [
    {
     "data": {
      "text/html": [
       "<pre style=\"word-wrap: normal;white-space: pre;background: #fff0;line-height: 1.1;font-family: &quot;Courier New&quot;,Courier,monospace\">                                          ┌───┐   \n",
       "q_0: ───────────────■─────────────■───────┤ H ├─X─\n",
       "                    │       ┌───┐ │P(π/2) └───┘ │ \n",
       "q_1: ──────■────────┼───────┤ H ├─■─────────────┼─\n",
       "     ┌───┐ │P(π/2)  │P(π/4) └───┘               │ \n",
       "q_2: ┤ H ├─■────────■───────────────────────────X─\n",
       "     └───┘                                        </pre>"
      ],
      "text/plain": [
       "                                          ┌───┐   \n",
       "q_0: ───────────────■─────────────■───────┤ H ├─X─\n",
       "                    │       ┌───┐ │P(π/2) └───┘ │ \n",
       "q_1: ──────■────────┼───────┤ H ├─■─────────────┼─\n",
       "     ┌───┐ │P(π/2)  │P(π/4) └───┘               │ \n",
       "q_2: ┤ H ├─■────────■───────────────────────────X─\n",
       "     └───┘                                        "
      ]
     },
     "execution_count": 7,
     "metadata": {},
     "output_type": "execute_result"
    }
   ],
   "source": [
    "qc.swap(0,2)\n",
    "qc.draw()"
   ]
  },
  {
   "cell_type": "markdown",
   "metadata": {},
   "source": [
    "### 8.2 General QFT Function <a id=\"generalqft\"></a>\n",
    "\n",
    "We will now create a general circuit for the QFT in Qiskit. Creating large general circuits like this is really where Qiskit shines. \n",
    "\n",
    "It is easier to build a circuit that implements the QFT with the qubits upside down, then swap them afterwards; we will start off by creating the function that rotates our qubits correctly. Let’s start as we did with the 3 qubit example, by correctly rotating the most significant qubit (the qubit with the highest index):"
   ]
  },
  {
   "cell_type": "code",
   "execution_count": 8,
   "metadata": {},
   "outputs": [],
   "source": [
    "def qft_rotations(circuit, n):\n",
    "    if n == 0: # Exit function if circuit is empty\n",
    "        return circuit\n",
    "    n -= 1 # Indexes start from 0\n",
    "    circuit.h(n) # Apply the H-gate to the most significant qubit\n",
    "    for qubit in range(n):\n",
    "        # For each less significant qubit, we need to do a\n",
    "        # smaller-angled controlled rotation: \n",
    "        circuit.cp(pi/2**(n-qubit), qubit, n)"
   ]
  },
  {
   "cell_type": "markdown",
   "metadata": {},
   "source": [
    "Let’s see how this looks:"
   ]
  },
  {
   "cell_type": "code",
   "execution_count": 9,
   "metadata": {},
   "outputs": [
    {
     "data": {
      "text/html": [
       "<pre style=\"word-wrap: normal;white-space: pre;background: #fff0;line-height: 1.1;font-family: &quot;Courier New&quot;,Courier,monospace\">                                     \n",
       "q_0: ──────■─────────────────────────\n",
       "           │                         \n",
       "q_1: ──────┼────────■────────────────\n",
       "           │        │                \n",
       "q_2: ──────┼────────┼────────■───────\n",
       "     ┌───┐ │P(π/8)  │P(π/4)  │P(π/2) \n",
       "q_3: ┤ H ├─■────────■────────■───────\n",
       "     └───┘                           </pre>"
      ],
      "text/plain": [
       "                                     \n",
       "q_0: ──────■─────────────────────────\n",
       "           │                         \n",
       "q_1: ──────┼────────■────────────────\n",
       "           │        │                \n",
       "q_2: ──────┼────────┼────────■───────\n",
       "     ┌───┐ │P(π/8)  │P(π/4)  │P(π/2) \n",
       "q_3: ┤ H ├─■────────■────────■───────\n",
       "     └───┘                           "
      ]
     },
     "execution_count": 9,
     "metadata": {},
     "output_type": "execute_result"
    }
   ],
   "source": [
    "qc = QuantumCircuit(4)\n",
    "qft_rotations(qc,4)\n",
    "qc.draw()"
   ]
  },
  {
   "cell_type": "markdown",
   "metadata": {},
   "source": [
    "We can use the widget below to see how this circuit scales with the number of qubits in our circuit:"
   ]
  },
  {
   "cell_type": "code",
   "execution_count": 10,
   "metadata": {},
   "outputs": [
    {
     "data": {
      "application/vnd.jupyter.widget-view+json": {
       "model_id": "2463383f9d8a4bc4a34a6bb49c185f5d",
       "version_major": 2,
       "version_minor": 0
      },
      "text/plain": [
       "IntSlider(value=4, max=8, min=1)"
      ]
     },
     "metadata": {},
     "output_type": "display_data"
    },
    {
     "data": {
      "application/vnd.jupyter.widget-view+json": {
       "model_id": "7d5082ed5e174757a70155c0270644ea",
       "version_major": 2,
       "version_minor": 0
      },
      "text/plain": [
       "Image(value=b'\\x89PNG\\r\\n\\x1a\\n\\x00\\x00\\x00\\rIHDR\\x00\\x00\\x02\\xc1\\x00\\x00\\x01o\\x08\\x06\\x00\\x00\\x00\\xabO\\x16w\\x…"
      ]
     },
     "metadata": {},
     "output_type": "display_data"
    }
   ],
   "source": [
    "from qiskit_textbook.widgets import scalable_circuit\n",
    "scalable_circuit(qft_rotations)"
   ]
  },
  {
   "cell_type": "markdown",
   "metadata": {},
   "source": [
    "Great! This is the first part of our QFT. Now we have correctly rotated the most significant qubit, we need to correctly rotate the second most significant qubit. Then we must deal with the third most significant, and so on. But why write more code? When we get to the end of our `qft_rotations()` function, we can use the same code to repeat the process on the next `n-1` qubits:"
   ]
  },
  {
   "cell_type": "code",
   "execution_count": 11,
   "metadata": {},
   "outputs": [
    {
     "data": {
      "text/html": [
       "<pre style=\"word-wrap: normal;white-space: pre;background: #fff0;line-height: 1.1;font-family: &quot;Courier New&quot;,Courier,monospace\">                                                                          ┌───┐\n",
       "q_0: ──────■───────────────────────────────■──────────────────────■───────┤ H ├\n",
       "           │                               │                ┌───┐ │P(π/2) └───┘\n",
       "q_1: ──────┼────────■──────────────────────┼────────■───────┤ H ├─■────────────\n",
       "           │        │                ┌───┐ │P(π/4)  │P(π/2) └───┘              \n",
       "q_2: ──────┼────────┼────────■───────┤ H ├─■────────■──────────────────────────\n",
       "     ┌───┐ │P(π/8)  │P(π/4)  │P(π/2) └───┘                                     \n",
       "q_3: ┤ H ├─■────────■────────■─────────────────────────────────────────────────\n",
       "     └───┘                                                                     </pre>"
      ],
      "text/plain": [
       "                                                                          ┌───┐\n",
       "q_0: ──────■───────────────────────────────■──────────────────────■───────┤ H ├\n",
       "           │                               │                ┌───┐ │P(π/2) └───┘\n",
       "q_1: ──────┼────────■──────────────────────┼────────■───────┤ H ├─■────────────\n",
       "           │        │                ┌───┐ │P(π/4)  │P(π/2) └───┘              \n",
       "q_2: ──────┼────────┼────────■───────┤ H ├─■────────■──────────────────────────\n",
       "     ┌───┐ │P(π/8)  │P(π/4)  │P(π/2) └───┘                                     \n",
       "q_3: ┤ H ├─■────────■────────■─────────────────────────────────────────────────\n",
       "     └───┘                                                                     "
      ]
     },
     "execution_count": 11,
     "metadata": {},
     "output_type": "execute_result"
    }
   ],
   "source": [
    "def qft_rotations(circuit, n):\n",
    "    \"\"\"Performs qft on the first n qubits in circuit (without swaps)\"\"\"\n",
    "    if n == 0:\n",
    "        return circuit\n",
    "    n -= 1\n",
    "    circuit.h(n)\n",
    "    for qubit in range(n):\n",
    "        circuit.cp(pi/2**(n-qubit), qubit, n)\n",
    "    # At the end of our function, we call the same function again on\n",
    "    # the next qubits (we reduced n by one earlier in the function)\n",
    "    qft_rotations(circuit, n)\n",
    "\n",
    "# Let's see how it looks:\n",
    "qc = QuantumCircuit(4)\n",
    "qft_rotations(qc,4)\n",
    "qc.draw()"
   ]
  },
  {
   "cell_type": "markdown",
   "metadata": {},
   "source": [
    "That was easy! Process in which a function calls itself directly or indirectly is called _recursion._ It can greatly simplify code. We can again see how this scales using the widget below:"
   ]
  },
  {
   "cell_type": "code",
   "execution_count": 12,
   "metadata": {},
   "outputs": [
    {
     "data": {
      "application/vnd.jupyter.widget-view+json": {
       "model_id": "c7ff1af69f8843dd866f78de5aa0e041",
       "version_major": 2,
       "version_minor": 0
      },
      "text/plain": [
       "IntSlider(value=4, max=8, min=1)"
      ]
     },
     "metadata": {},
     "output_type": "display_data"
    },
    {
     "data": {
      "application/vnd.jupyter.widget-view+json": {
       "model_id": "748d0a0acc4740cb927c132bc3382584",
       "version_major": 2,
       "version_minor": 0
      },
      "text/plain": [
       "Image(value=b'\\x89PNG\\r\\n\\x1a\\n\\x00\\x00\\x00\\rIHDR\\x00\\x00\\x05\\xb2\\x00\\x00\\x01o\\x08\\x06\\x00\\x00\\x00\\x9f\\n=o\\x00…"
      ]
     },
     "metadata": {},
     "output_type": "display_data"
    }
   ],
   "source": [
    "scalable_circuit(qft_rotations)"
   ]
  },
  {
   "cell_type": "markdown",
   "metadata": {},
   "source": [
    "Finally, we need to add the swaps at the end of the QFT function to match the definition of the QFT. We will combine this into the final function `qft()`:"
   ]
  },
  {
   "cell_type": "code",
   "execution_count": 13,
   "metadata": {},
   "outputs": [
    {
     "data": {
      "text/html": [
       "<pre style=\"word-wrap: normal;white-space: pre;background: #fff0;line-height: 1.1;font-family: &quot;Courier New&quot;,Courier,monospace\">                                                                          ┌───┐»\n",
       "q_0: ──────■───────────────────────────────■──────────────────────■───────┤ H ├»\n",
       "           │                               │                ┌───┐ │P(π/2) └───┘»\n",
       "q_1: ──────┼────────■──────────────────────┼────────■───────┤ H ├─■─────────X──»\n",
       "           │        │                ┌───┐ │P(π/4)  │P(π/2) └───┘           │  »\n",
       "q_2: ──────┼────────┼────────■───────┤ H ├─■────────■───────────────────────X──»\n",
       "     ┌───┐ │P(π/8)  │P(π/4)  │P(π/2) └───┘                                     »\n",
       "q_3: ┤ H ├─■────────■────────■─────────────────────────────────────────────────»\n",
       "     └───┘                                                                     »\n",
       "«        \n",
       "«q_0: ─X─\n",
       "«      │ \n",
       "«q_1: ─┼─\n",
       "«      │ \n",
       "«q_2: ─┼─\n",
       "«      │ \n",
       "«q_3: ─X─\n",
       "«        </pre>"
      ],
      "text/plain": [
       "                                                                          ┌───┐»\n",
       "q_0: ──────■───────────────────────────────■──────────────────────■───────┤ H ├»\n",
       "           │                               │                ┌───┐ │P(π/2) └───┘»\n",
       "q_1: ──────┼────────■──────────────────────┼────────■───────┤ H ├─■─────────X──»\n",
       "           │        │                ┌───┐ │P(π/4)  │P(π/2) └───┘           │  »\n",
       "q_2: ──────┼────────┼────────■───────┤ H ├─■────────■───────────────────────X──»\n",
       "     ┌───┐ │P(π/8)  │P(π/4)  │P(π/2) └───┘                                     »\n",
       "q_3: ┤ H ├─■────────■────────■─────────────────────────────────────────────────»\n",
       "     └───┘                                                                     »\n",
       "«        \n",
       "«q_0: ─X─\n",
       "«      │ \n",
       "«q_1: ─┼─\n",
       "«      │ \n",
       "«q_2: ─┼─\n",
       "«      │ \n",
       "«q_3: ─X─\n",
       "«        "
      ]
     },
     "execution_count": 13,
     "metadata": {},
     "output_type": "execute_result"
    }
   ],
   "source": [
    "def swap_registers(circuit, n):\n",
    "    for qubit in range(n//2):\n",
    "        circuit.swap(qubit, n-qubit-1)\n",
    "    return circuit\n",
    "\n",
    "def qft(circuit, n):\n",
    "    \"\"\"QFT on the first n qubits in circuit\"\"\"\n",
    "    qft_rotations(circuit, n)\n",
    "    swap_registers(circuit, n)\n",
    "    return circuit\n",
    "\n",
    "# Let's see how it looks:\n",
    "qc = QuantumCircuit(4)\n",
    "qft(qc,4)\n",
    "qc.draw()"
   ]
  },
  {
   "cell_type": "markdown",
   "metadata": {},
   "source": [
    "This is the generalised circuit for the quantum Fourier transform. We can again see how this scales using the widget below:"
   ]
  },
  {
   "cell_type": "code",
   "execution_count": 14,
   "metadata": {},
   "outputs": [
    {
     "data": {
      "application/vnd.jupyter.widget-view+json": {
       "model_id": "d391369f513b4f288048e7c12df10c83",
       "version_major": 2,
       "version_minor": 0
      },
      "text/plain": [
       "IntSlider(value=4, max=8, min=1)"
      ]
     },
     "metadata": {},
     "output_type": "display_data"
    },
    {
     "data": {
      "application/vnd.jupyter.widget-view+json": {
       "model_id": "88716cbc456b463f960a95a9d19d4f6b",
       "version_major": 2,
       "version_minor": 0
      },
      "text/plain": [
       "Image(value=b'\\x89PNG\\r\\n\\x1a\\n\\x00\\x00\\x00\\rIHDR\\x00\\x00\\x06\\x05\\x00\\x00\\x01o\\x08\\x06\\x00\\x00\\x00j\\xc2\\xcb.\\x…"
      ]
     },
     "metadata": {},
     "output_type": "display_data"
    }
   ],
   "source": [
    "scalable_circuit(qft)"
   ]
  },
  {
   "cell_type": "markdown",
   "metadata": {},
   "source": [
    "We now want to demonstrate this circuit works correctly. To do this we must first encode a number in the computational basis. We can see the number 5 in binary is `101`:"
   ]
  },
  {
   "cell_type": "code",
   "execution_count": 15,
   "metadata": {
    "scrolled": true
   },
   "outputs": [
    {
     "data": {
      "text/plain": [
       "'0b101'"
      ]
     },
     "execution_count": 15,
     "metadata": {},
     "output_type": "execute_result"
    }
   ],
   "source": [
    "bin(5)"
   ]
  },
  {
   "cell_type": "markdown",
   "metadata": {},
   "source": [
    "(The `0b` just reminds us this is a binary number). Let's encode this into our qubits:"
   ]
  },
  {
   "cell_type": "code",
   "execution_count": 16,
   "metadata": {},
   "outputs": [
    {
     "data": {
      "text/html": [
       "<pre style=\"word-wrap: normal;white-space: pre;background: #fff0;line-height: 1.1;font-family: &quot;Courier New&quot;,Courier,monospace\">     ┌───┐\n",
       "q_0: ┤ X ├\n",
       "     └───┘\n",
       "q_1: ─────\n",
       "     ┌───┐\n",
       "q_2: ┤ X ├\n",
       "     └───┘</pre>"
      ],
      "text/plain": [
       "     ┌───┐\n",
       "q_0: ┤ X ├\n",
       "     └───┘\n",
       "q_1: ─────\n",
       "     ┌───┐\n",
       "q_2: ┤ X ├\n",
       "     └───┘"
      ]
     },
     "execution_count": 16,
     "metadata": {},
     "output_type": "execute_result"
    }
   ],
   "source": [
    "# Create the circuit\n",
    "qc = QuantumCircuit(3)\n",
    "\n",
    "# Encode the state 5\n",
    "qc.x(0)\n",
    "qc.x(2)\n",
    "qc.draw()"
   ]
  },
  {
   "cell_type": "markdown",
   "metadata": {},
   "source": [
    "Finally, let's use our QFT function and view the final state of our qubits:"
   ]
  },
  {
   "cell_type": "code",
   "execution_count": 17,
   "metadata": {},
   "outputs": [
    {
     "data": {
      "text/html": [
       "<pre style=\"word-wrap: normal;white-space: pre;background: #fff0;line-height: 1.1;font-family: &quot;Courier New&quot;,Courier,monospace\">     ┌───┐                                     ┌───┐   \n",
       "q_0: ┤ X ├──────■──────────────────────■───────┤ H ├─X─\n",
       "     └───┘      │                ┌───┐ │P(π/2) └───┘ │ \n",
       "q_1: ───────────┼────────■───────┤ H ├─■─────────────┼─\n",
       "     ┌───┐┌───┐ │P(π/4)  │P(π/2) └───┘               │ \n",
       "q_2: ┤ X ├┤ H ├─■────────■───────────────────────────X─\n",
       "     └───┘└───┘                                        </pre>"
      ],
      "text/plain": [
       "     ┌───┐                                     ┌───┐   \n",
       "q_0: ┤ X ├──────■──────────────────────■───────┤ H ├─X─\n",
       "     └───┘      │                ┌───┐ │P(π/2) └───┘ │ \n",
       "q_1: ───────────┼────────■───────┤ H ├─■─────────────┼─\n",
       "     ┌───┐┌───┐ │P(π/4)  │P(π/2) └───┘               │ \n",
       "q_2: ┤ X ├┤ H ├─■────────■───────────────────────────X─\n",
       "     └───┘└───┘                                        "
      ]
     },
     "execution_count": 17,
     "metadata": {},
     "output_type": "execute_result"
    }
   ],
   "source": [
    "qft(qc,3)\n",
    "qc.draw()"
   ]
  },
  {
   "cell_type": "code",
   "execution_count": 19,
   "metadata": {},
   "outputs": [
    {
     "name": "stdout",
     "output_type": "stream",
     "text": [
      "Executing Quantum Circuit With...\n",
      "3 Qubits And ...\n",
      "9 Gates\n",
      "Time Taken 0:00:00.472001\n"
     ]
    },
    {
     "data": {
      "image/png": "[encoded data removed]",
      "text/plain": [
       "<Figure size 640x480 with 1 Axes>"
      ]
     },
     "execution_count": 19,
     "metadata": {},
     "output_type": "execute_result"
    }
   ],
   "source": [
    "import sys\n",
    "sys.path.append('../../../')\n",
    "from AutomatskiKomencoQiskit import *\n",
    "\n",
    "qc.measure_all()\n",
    "\n",
    "# Run the Circuit using Automatski' Quantum Simulators and Quantum Computers\n",
    "# No need for transpiling with any transpiler\n",
    "backend = AutomatskiKomencoQiskit(host=\"103.212.120.18\", port=80)\n",
    "\n",
    "# Run the circuit and get results\n",
    "result_sim = backend.run(qc, repetitions=1000, topK=20)\n",
    "\n",
    "counts = result_sim.get_counts(None)\n",
    "plot_histogram(counts)"
   ]
  },
  {
   "cell_type": "markdown",
   "metadata": {},
   "source": [
    "We can see out QFT function has worked correctly. Compared the state $|\\widetilde{0}\\rangle = |{+}{+}{+}\\rangle$, Qubit 0 has been rotated by $\\tfrac{5}{8}$ of a full turn, qubit 1 by $\\tfrac{10}{8}$ full turns (equivalent to $\\tfrac{1}{4}$ of a full turn), and qubit 2 by $\\tfrac{20}{8}$ full turns (equivalent to $\\tfrac{1}{2}$ of a full turn)."
   ]
  },
  {
   "cell_type": "markdown",
   "metadata": {},
   "source": [
    "### 8.3 Running QFT on a Real Quantum Device<a id=\"implementationdev\"></a>"
   ]
  },
  {
   "cell_type": "markdown",
   "metadata": {},
   "source": [
    "If we tried running the circuit at the end of section 8.2 on a real device, the results would be completely random, since all qubits are in equal superposition of $|0\\rangle$ and $|1\\rangle$. If we want to demonstrate and investigate the QFT working on real hardware, we can instead create the state $|\\widetilde{5}\\rangle$ seen at the end of section 8.2, run the QFT in reverse, and verify the output is the state $|5\\rangle$ as expected. \n",
    "\n",
    "Firstly, let’s use Qiskit to easily reverse our QFT operation:"
   ]
  },
  {
   "cell_type": "code",
   "execution_count": 20,
   "metadata": {},
   "outputs": [],
   "source": [
    "def inverse_qft(circuit, n):\n",
    "    \"\"\"Does the inverse QFT on the first n qubits in circuit\"\"\"\n",
    "    # First we create a QFT circuit of the correct size:\n",
    "    qft_circ = qft(QuantumCircuit(n), n)\n",
    "    # Then we take the inverse of this circuit\n",
    "    invqft_circ = qft_circ.inverse()\n",
    "    # And add it to the first n qubits in our existing circuit\n",
    "    circuit.append(invqft_circ, circuit.qubits[:n])\n",
    "    return circuit.decompose() # .decompose() allows us to see the individual gates"
   ]
  },
  {
   "cell_type": "markdown",
   "metadata": {},
   "source": [
    "Now let's put our qubits in the state $|\\widetilde{5}\\rangle$:"
   ]
  },
  {
   "cell_type": "code",
   "execution_count": 21,
   "metadata": {},
   "outputs": [
    {
     "data": {
      "text/html": [
       "<pre style=\"word-wrap: normal;white-space: pre;background: #fff0;line-height: 1.1;font-family: &quot;Courier New&quot;,Courier,monospace\">     ┌───┐┌─────────┐\n",
       "q_0: ┤ H ├┤ P(5π/4) ├\n",
       "     ├───┤├─────────┤\n",
       "q_1: ┤ H ├┤ P(5π/2) ├\n",
       "     ├───┤└┬───────┬┘\n",
       "q_2: ┤ H ├─┤ P(5π) ├─\n",
       "     └───┘ └───────┘ </pre>"
      ],
      "text/plain": [
       "     ┌───┐┌─────────┐\n",
       "q_0: ┤ H ├┤ P(5π/4) ├\n",
       "     ├───┤├─────────┤\n",
       "q_1: ┤ H ├┤ P(5π/2) ├\n",
       "     ├───┤└┬───────┬┘\n",
       "q_2: ┤ H ├─┤ P(5π) ├─\n",
       "     └───┘ └───────┘ "
      ]
     },
     "execution_count": 21,
     "metadata": {},
     "output_type": "execute_result"
    }
   ],
   "source": [
    "nqubits = 3\n",
    "number = 5\n",
    "qc = QuantumCircuit(nqubits)\n",
    "for qubit in range(nqubits):\n",
    "    qc.h(qubit)\n",
    "qc.p(number*pi/4,0)\n",
    "qc.p(number*pi/2,1)\n",
    "qc.p(number*pi,2)\n",
    "\n",
    "qc.draw()"
   ]
  },
  {
   "cell_type": "markdown",
   "metadata": {},
   "source": [
    "And we can see this does indeed result in the Fourier state $|\\widetilde{5}\\rangle$:"
   ]
  },
  {
   "cell_type": "code",
   "execution_count": 22,
   "metadata": {},
   "outputs": [
    {
     "name": "stdout",
     "output_type": "stream",
     "text": [
      "Executing Quantum Circuit With...\n",
      "3 Qubits And ...\n",
      "6 Gates\n",
      "Time Taken 0:00:00.064004\n"
     ]
    },
    {
     "data": {
      "image/png": "[encoded data removed]",
      "text/plain": [
       "<Figure size 640x480 with 1 Axes>"
      ]
     },
     "execution_count": 22,
     "metadata": {},
     "output_type": "execute_result"
    }
   ],
   "source": [
    "qc.measure_all()\n",
    "\n",
    "# Run the circuit and get results\n",
    "result_sim = backend.run(qc, repetitions=1000, topK=20)\n",
    "\n",
    "counts = result_sim.get_counts(None)\n",
    "plot_histogram(counts)"
   ]
  },
  {
   "cell_type": "markdown",
   "metadata": {},
   "source": [
    "Finally, let's apply our inverse QFT:"
   ]
  },
  {
   "cell_type": "code",
   "execution_count": 23,
   "metadata": {},
   "outputs": [
    {
     "data": {
      "text/html": [
       "<pre style=\"word-wrap: normal;white-space: pre;background: #fff0;line-height: 1.1;font-family: &quot;Courier New&quot;,Courier,monospace\">         ┌─────────┐┌─────────────┐ ░ ┌─┐         ┌───┐               »\n",
       "    q_0: ┤ U2(0,π) ├┤ U(0,0,5π/4) ├─░─┤M├───────X─┤ H ├─■─────────────»\n",
       "         ├─────────┤├─────────────┤ ░ └╥┘┌─┐    │ └───┘ │P(-π/2) ┌───┐»\n",
       "    q_1: ┤ U2(0,π) ├┤ U(0,0,5π/2) ├─░──╫─┤M├────┼───────■────────┤ H ├»\n",
       "         ├─────────┤└┬───────────┬┘ ░  ║ └╥┘┌─┐ │                └───┘»\n",
       "    q_2: ┤ U2(0,π) ├─┤ U(0,0,5π) ├──░──╫──╫─┤M├─X─────────────────────»\n",
       "         └─────────┘ └───────────┘  ░  ║  ║ └╥┘                       »\n",
       " meas: 3/══════════════════════════════╩══╩══╩════════════════════════»\n",
       "                                       0  1  2                        »\n",
       "meas0: 3/═════════════════════════════════════════════════════════════»\n",
       "                                                                      »\n",
       "«                                   ░ ┌─┐      \n",
       "«    q_0: ───────────■──────────────░─┤M├──────\n",
       "«                    │              ░ └╥┘┌─┐   \n",
       "«    q_1: ─■─────────┼──────────────░──╫─┤M├───\n",
       "«          │P(-π/2)  │P(-π/4) ┌───┐ ░  ║ └╥┘┌─┐\n",
       "«    q_2: ─■─────────■────────┤ H ├─░──╫──╫─┤M├\n",
       "«                             └───┘ ░  ║  ║ └╥┘\n",
       "« meas: 3/═════════════════════════════╬══╬══╬═\n",
       "«                                      ║  ║  ║ \n",
       "«meas0: 3/═════════════════════════════╩══╩══╩═\n",
       "«                                      0  1  2 </pre>"
      ],
      "text/plain": [
       "         ┌─────────┐┌─────────────┐ ░ ┌─┐         ┌───┐               »\n",
       "    q_0: ┤ U2(0,π) ├┤ U(0,0,5π/4) ├─░─┤M├───────X─┤ H ├─■─────────────»\n",
       "         ├─────────┤├─────────────┤ ░ └╥┘┌─┐    │ └───┘ │P(-π/2) ┌───┐»\n",
       "    q_1: ┤ U2(0,π) ├┤ U(0,0,5π/2) ├─░──╫─┤M├────┼───────■────────┤ H ├»\n",
       "         ├─────────┤└┬───────────┬┘ ░  ║ └╥┘┌─┐ │                └───┘»\n",
       "    q_2: ┤ U2(0,π) ├─┤ U(0,0,5π) ├──░──╫──╫─┤M├─X─────────────────────»\n",
       "         └─────────┘ └───────────┘  ░  ║  ║ └╥┘                       »\n",
       " meas: 3/══════════════════════════════╩══╩══╩════════════════════════»\n",
       "                                       0  1  2                        »\n",
       "meas0: 3/═════════════════════════════════════════════════════════════»\n",
       "                                                                      »\n",
       "«                                   ░ ┌─┐      \n",
       "«    q_0: ───────────■──────────────░─┤M├──────\n",
       "«                    │              ░ └╥┘┌─┐   \n",
       "«    q_1: ─■─────────┼──────────────░──╫─┤M├───\n",
       "«          │P(-π/2)  │P(-π/4) ┌───┐ ░  ║ └╥┘┌─┐\n",
       "«    q_2: ─■─────────■────────┤ H ├─░──╫──╫─┤M├\n",
       "«                             └───┘ ░  ║  ║ └╥┘\n",
       "« meas: 3/═════════════════════════════╬══╬══╬═\n",
       "«                                      ║  ║  ║ \n",
       "«meas0: 3/═════════════════════════════╩══╩══╩═\n",
       "«                                      0  1  2 "
      ]
     },
     "execution_count": 23,
     "metadata": {},
     "output_type": "execute_result"
    }
   ],
   "source": [
    "qc = inverse_qft(qc, nqubits)\n",
    "qc.measure_all()\n",
    "qc.draw()"
   ]
  },
  {
   "cell_type": "markdown",
   "metadata": {},
   "source": [
    "## 9. Problems<a id=\"problems\"></a>"
   ]
  },
  {
   "cell_type": "markdown",
   "metadata": {},
   "source": [
    "1. The [above implementation](#implementationdev) of QFT was tested by preparing the Fourier state $|\\widetilde{5}\\rangle$ for which $\\text{QFT}^{\\dagger}|\\widetilde{5}\\rangle = |101\\rangle$. Try to find the state $|a\\rangle$ such that $\\text{QFT}^{\\dagger}|a\\rangle = |100\\rangle$.\n",
    "2. Find the state $|b\\rangle$ such that $\\text{QFT}^{\\dagger}|b\\rangle = |011\\rangle$.\n",
    "3. Try to write the QFT function without recursion. Use Qiskit's unitary simulator to verify your results."
   ]
  },
  {
   "cell_type": "markdown",
   "metadata": {},
   "source": [
    "## 10. References<a id=\"references\"></a>"
   ]
  },
  {
   "cell_type": "markdown",
   "metadata": {},
   "source": [
    "1. M. Nielsen and I. Chuang, Quantum Computation and Quantum Information, Cambridge Series on Information and the Natural Sciences (Cambridge University Press, Cambridge, 2000)."
   ]
  },
  {
   "cell_type": "code",
   "execution_count": 45,
   "metadata": {},
   "outputs": [
    {
     "name": "stderr",
     "output_type": "stream",
     "text": [
      "/usr/local/anaconda3/envs/terra-unstable/lib/python3.9/site-packages/qiskit/aqua/__init__.py:86: DeprecationWarning: The package qiskit.aqua is deprecated. It was moved/refactored to qiskit-terra For more information see <https://github.com/Qiskit/qiskit-aqua/blob/main/README.md#migration-guide>\n",
      "  warn_package('aqua', 'qiskit-terra')\n"
     ]
    },
    {
     "data": {
      "text/html": [
       "<h3>Version Information</h3><table><tr><th>Qiskit Software</th><th>Version</th></tr><tr><td><code>qiskit-terra</code></td><td>0.19.0</td></tr><tr><td><code>qiskit-aer</code></td><td>0.9.1</td></tr><tr><td><code>qiskit-ignis</code></td><td>0.6.0</td></tr><tr><td><code>qiskit-ibmq-provider</code></td><td>0.17.0</td></tr><tr><td><code>qiskit-aqua</code></td><td>0.9.5</td></tr><tr><td><code>qiskit</code></td><td>0.31.0</td></tr><tr><th>System information</th></tr><tr><td>Python version</td><td>3.9.7</td></tr><tr><td>Python compiler</td><td>Clang 10.0.0 </td></tr><tr><td>Python build</td><td>default, Sep 16 2021 08:50:36</td></tr><tr><td>OS</td><td>Darwin</td></tr><tr><td>CPUs</td><td>8</td></tr><tr><td>Memory (Gb)</td><td>32.0</td></tr><tr><td colspan='2'>Fri Nov 05 14:38:37 2021 GMT</td></tr></table>"
      ],
      "text/plain": [
       "<IPython.core.display.HTML object>"
      ]
     },
     "metadata": {},
     "output_type": "display_data"
    }
   ],
   "source": [
    "import qiskit.tools.jupyter\n",
    "%qiskit_version_table"
   ]
  }
 ],
 "metadata": {
  "kernelspec": {
   "display_name": "Python 3 (ipykernel)",
   "language": "python",
   "name": "python3"
  },
  "language_info": {
   "codemirror_mode": {
    "name": "ipython",
    "version": 3
   },
   "file_extension": ".py",
   "mimetype": "text/x-python",
   "name": "python",
   "nbconvert_exporter": "python",
   "pygments_lexer": "ipython3",
   "version": "3.11.0"
  }
 },
 "nbformat": 4,
 "nbformat_minor": 4
}
