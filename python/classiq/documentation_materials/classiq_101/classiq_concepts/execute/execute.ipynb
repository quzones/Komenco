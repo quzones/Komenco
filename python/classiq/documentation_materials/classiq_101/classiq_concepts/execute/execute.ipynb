{
 "cells": [
  {
   "cell_type": "markdown",
   "metadata": {},
   "source": [
    "# Execute "
   ]
  },
  {
   "cell_type": "markdown",
   "metadata": {},
   "source": [
    "The last step of the quantum algorithm development process using Classiq is to execute the quantum program on a quantum computer or a simulator. You can do it in the IDE or through the Python SDK. Classiq offers access to a wide variety of quantum computers with different hardware modalities from companies including IonQ, Quantinuum, IBM, OQC, and Rigetti, as well as several simulators.\n",
    "\n",
    "The execution phase comprises configuration and access to the results. This page covers these steps using a concrete example, starting with the default Classiq execution options for the execution you encountered in the previous example of this 101 guide."
   ]
  },
  {
   "cell_type": "markdown",
   "metadata": {},
   "source": [
    "## Default Execution"
   ]
  },
  {
   "cell_type": "markdown",
   "metadata": {},
   "source": [
    "Continuing with the algorithm you already encountered, create a quantum algorithm that calculates the arithmetic expression $y=x^2+1$ in a superposition. The algorithm, written in Qmod, implements this task:"
   ]
  },
  {
   "cell_type": "code",
   "execution_count": 1,
   "metadata": {},
   "outputs": [
    {
     "name": "stderr",
     "output_type": "stream",
     "text": [
      "C:\\Users\\adityayadav76\\.conda\\envs\\qiskit\\Lib\\site-packages\\classiq\\_internals\\authentication\\token_manager.py:101: UserWarning: Device is already registered.\n",
      "Generating a new refresh token should only be done if the current refresh token is compromised.\n",
      "To do so, set the overwrite parameter to true\n",
      "  warnings.warn(\n"
     ]
    }
   ],
   "source": [
    "from classiq import *\n",
    "import classiq\n",
    "classiq.authenticate()\n",
    "\n",
    "from qiskit import QuantumCircuit\n",
    "import sys\n",
    "sys.path.append('../../../../../')\n",
    "from AutomatskiKomencoQiskit import *\n",
    "sys.path.append('../../../../')\n",
    "from AutomatskiClassiq import *\n",
    "\n",
    "# Run the Circuit using Automatski' Quantum Simulators and Quantum Computers\n",
    "# No need for transpiling with any transpiler\n",
    "backend = AutomatskiKomencoQiskit(host=\"103.212.120.18\", port=80)\n",
    "\n",
    "@qfunc\n",
    "def main(x: Output[QNum], y: Output[QNum]):\n",
    "\n",
    "    allocate(4, x)\n",
    "    hadamard_transform(x)  # creates a uniform superposition\n",
    "    y |= x**2 + 1"
   ]
  },
  {
   "cell_type": "markdown",
   "metadata": {},
   "source": [
    "Synthesize the algorithm:"
   ]
  },
  {
   "cell_type": "code",
   "execution_count": 2,
   "metadata": {},
   "outputs": [],
   "source": [
    "quantum_program = synthesize(create_model(main))"
   ]
  },
  {
   "cell_type": "markdown",
   "metadata": {},
   "source": [
    "<div  style=\"text-align:center;\">\n",
    "    <img src=\"https://docs.classiq.io/resources/design.gif\">\n",
    "</div>"
   ]
  },
  {
   "cell_type": "markdown",
   "metadata": {},
   "source": [
    "Execute the quantum program directly and analyze the results:"
   ]
  },
  {
   "cell_type": "code",
   "execution_count": 3,
   "metadata": {},
   "outputs": [
    {
     "name": "stdout",
     "output_type": "stream",
     "text": [
      "Executing Quantum Circuit With...\n",
      "12 Qubits And ...\n",
      "824 Gates\n",
      "Time Taken 0:00:00.242997\n",
      "{'101010101101': 63, '111000101111': 63, '011001011010': 63, '011110101011': 63, '001001010110': 63, '000110100101': 63, '001100100111': 63, '110001011110': 63, '010100101001': 62, '000010100011': 62, '100100011100': 62, '000100010100': 62, '000000100001': 62, '000001010010': 62, '010000011000': 62, '000000010000': 62, '100000010000': 0, '101100100111': 0, '010000010000': 0, '110000010000': 0}\n"
     ]
    }
   ],
   "source": [
    "circuit = generateQiskitCircuit(quantum_program)\n",
    "\n",
    "# Run the Circuit using Automatski' Quantum Simulators and Quantum Computers\n",
    "# No need for transpiling with any transpiler\n",
    "backend = AutomatskiKomencoQiskit(host=\"103.212.120.18\", port=80)\n",
    "\n",
    "# Run the circuit and get results\n",
    "result_sim = backend.run(circuit, repetitions=1000, topK=20)\n",
    "\n",
    "counts = result_sim.get_counts(None)\n",
    "print(counts)"
   ]
  },
  {
   "cell_type": "markdown",
   "metadata": {},
   "source": [
    "<div  style=\"text-align:center;\">\n",
    "    <img src=\"https://docs.classiq.io/resources/execution.gif\">\n",
    "</div>"
   ]
  },
  {
   "cell_type": "markdown",
   "metadata": {},
   "source": [
    "The code above demonstrates how to execute using the default Classiq configuration, which executes on a simulator (of up to 25 qubits) with 1,000 shots. Now see how to execute with other configurations."
   ]
  },
  {
   "cell_type": "markdown",
   "metadata": {},
   "source": [
    "## Configuring the Execution "
   ]
  },
  {
   "cell_type": "markdown",
   "metadata": {},
   "source": [
    "### Configuration in the IDE"
   ]
  },
  {
   "cell_type": "markdown",
   "metadata": {},
   "source": [
    "In the IDE, during the visualization of the quantum program, configure the execution by clicking `Execute`. The `Execution` tab opens:\n",
    "<div  style=\"text-align:center;\">\n",
    "    <img src=\"https://docs.classiq.io/resources/execution_configuration.png\">\n",
    "</div>\n"
   ]
  },
  {
   "cell_type": "markdown",
   "metadata": {},
   "source": [
    "On the left is a list of the available simulators. To see a list of the hardware available via the platform, select the `Hardware` box at the top of the window. When you click `Run`, you may need to specify vendor credentials for the hardware and some of the simulators to enable access to the relevant computing resources. (See details in the reference manual.)\n",
    "\n",
    "On the right, you can configure the specific execution:\n",
    "- `Num Shots` is the number of shots the quantum program samples. \n",
    "- `Job Name` specifies the name of the job. \n",
    "- `Random Seed` requests receiving exactly the same results when using a simulator (as well as more advanced execution options on real hardware such as variational quantum algorithms and advanced transpilation methods).\n",
    "\n",
    "When you finish the configuration, click `Run`."
   ]
  },
  {
   "cell_type": "markdown",
   "metadata": {},
   "source": [
    "### Configuration in the SDK"
   ]
  },
  {
   "cell_type": "markdown",
   "metadata": {},
   "source": [
    "You can also configure the execution from the SDK, by adapting the quantum model to your execution preferences, similarly to the constraints and preferences from the optimization phase. \n",
    "\n",
    "This code demonstrates how to change the number of shots, specify a name for the job, and set a random seed for the simulator:"
   ]
  },
  {
   "cell_type": "code",
   "execution_count": 4,
   "metadata": {},
   "outputs": [],
   "source": [
    "from classiq.execution import ExecutionPreferences\n",
    "\n",
    "quantum_model = create_model(main)\n",
    "quantum_model_with_execution_preferences = set_execution_preferences(\n",
    "    quantum_model,\n",
    "    ExecutionPreferences(\n",
    "        num_shots=2048, job_name=\"classiq 101 - execute\", random_seed=767\n",
    "    ),\n",
    ")"
   ]
  },
  {
   "cell_type": "markdown",
   "metadata": {},
   "source": [
    "Synthesize and execute the adapted quantum model:"
   ]
  },
  {
   "cell_type": "code",
   "execution_count": 5,
   "metadata": {},
   "outputs": [
    {
     "name": "stdout",
     "output_type": "stream",
     "text": [
      "Executing Quantum Circuit With...\n",
      "12 Qubits And ...\n",
      "824 Gates\n",
      "Time Taken 0:00:00.232001\n",
      "{'101010101101': 128, '111000101111': 128, '011001011010': 128, '011110101011': 128, '001001010110': 128, '000110100101': 128, '001100100111': 128, '110001011110': 128, '010100101001': 128, '000010100011': 128, '100100011100': 128, '000100010100': 128, '000000100001': 128, '000001010010': 128, '010000011000': 128, '000000010000': 128, '100000010000': 0, '101100100111': 0, '010000010000': 0, '110000010000': 0}\n"
     ]
    }
   ],
   "source": [
    "quantum_program_with_execution_preferences = synthesize(\n",
    "    quantum_model_with_execution_preferences\n",
    ")\n",
    "circuit = generateQiskitCircuit(quantum_program)\n",
    "\n",
    "# Run the Circuit using Automatski' Quantum Simulators and Quantum Computers\n",
    "# No need for transpiling with any transpiler\n",
    "backend = AutomatskiKomencoQiskit(host=\"103.212.120.18\", port=80)\n",
    "\n",
    "# Run the circuit and get results\n",
    "result_sim = backend.run(circuit, repetitions=2048, topK=20)\n",
    "\n"
   ]
  },
  {
   "cell_type": "markdown",
   "metadata": {},
   "source": [
    "See the full list of configuration options for the execution preferences in the reference manual."
   ]
  },
  {
   "cell_type": "markdown",
   "metadata": {},
   "source": [
    "## Accessing the Results"
   ]
  },
  {
   "cell_type": "markdown",
   "metadata": {},
   "source": [
    "### Results in the IDE"
   ]
  },
  {
   "cell_type": "markdown",
   "metadata": {},
   "source": [
    "When you click `Run` in the `Execution` tab, the `Jobs` tab opens. All your jobs are listed on the left of the window. To view the information for a specific job, click it.\n",
    "\n",
    "<div  style=\"text-align:center;\">\n",
    "    <img src=\"https://docs.classiq.io/resources/execution_job_ide.png\">\n",
    "</div>\n",
    "\n",
    "The histogram of the results is on the right. Each bin represent a specific measurement result and its height represents the counts of that measurement. Hover over a specific bin to see the variables of the measurement results and the counts of that bin.\n",
    "\n",
    "In the top right corner are two buttons. The left button suggests further options for analyzing the histogram results and the right one downloads the results of the job in a specific format such as `.csv`."
   ]
  },
  {
   "cell_type": "markdown",
   "metadata": {},
   "source": [
    "### Results in the SDK"
   ]
  },
  {
   "cell_type": "markdown",
   "metadata": {},
   "source": [
    "In addition to the metadata, you can open the job directly in the IDE:"
   ]
  },
  {
   "cell_type": "markdown",
   "metadata": {},
   "source": [
    "Access the actual results of the job:"
   ]
  },
  {
   "cell_type": "code",
   "execution_count": 6,
   "metadata": {},
   "outputs": [
    {
     "name": "stdout",
     "output_type": "stream",
     "text": [
      "{'101010101101': 128, '111000101111': 128, '011001011010': 128, '011110101011': 128, '001001010110': 128, '000110100101': 128, '001100100111': 128, '110001011110': 128, '010100101001': 128, '000010100011': 128, '100100011100': 128, '000100010100': 128, '000000100001': 128, '000001010010': 128, '010000011000': 128, '000000010000': 128, '100000010000': 0, '101100100111': 0, '010000010000': 0, '110000010000': 0}\n"
     ]
    }
   ],
   "source": [
    "counts = result_sim.get_counts(None)\n",
    "print(counts)"
   ]
  },
  {
   "cell_type": "markdown",
   "metadata": {},
   "source": [
    "## Verify Your Understanding - Recommended Exercise"
   ]
  },
  {
   "cell_type": "markdown",
   "metadata": {},
   "source": [
    "Adapt the code such that the quantum number $x$ is allocated with 8 qubits. Then, execute the algorithm with 5096 shots and post process the results from your Python SDK. Plot a graph of all the measured values of $x$ and $y$ with the corresponding axes (make sure you receive the graph of $y=x^2+1$)."
   ]
  },
  {
   "cell_type": "code",
   "execution_count": 7,
   "metadata": {},
   "outputs": [],
   "source": [
    "write_qmod(quantum_model_with_execution_preferences, \"execute\")"
   ]
  }
 ],
 "metadata": {
  "kernelspec": {
   "display_name": "Python 3 (ipykernel)",
   "language": "python",
   "name": "python3"
  },
  "language_info": {
   "codemirror_mode": {
    "name": "ipython",
    "version": 3
   },
   "file_extension": ".py",
   "mimetype": "text/x-python",
   "name": "python",
   "nbconvert_exporter": "python",
   "pygments_lexer": "ipython3",
   "version": "3.11.0"
  },
  "vscode": {
   "interpreter": {
    "hash": "529b62266d4f537a408698cf820854c65fe877011c7661f0f70aa11c4383fddc"
   }
  }
 },
 "nbformat": 4,
 "nbformat_minor": 4
}
