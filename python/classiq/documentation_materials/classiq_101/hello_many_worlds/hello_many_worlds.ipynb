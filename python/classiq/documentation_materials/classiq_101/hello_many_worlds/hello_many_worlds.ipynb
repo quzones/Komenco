{
 "cells": [
  {
   "cell_type": "markdown",
   "metadata": {},
   "source": [
    "# Hello Many Worlds"
   ]
  },
  {
   "cell_type": "markdown",
   "metadata": {},
   "source": [
    "With Classiq (as, perhaps, with quantum computing) there are many parallel worlds in which to work; specifically, the IDE and Python SDK interfaces. The 'Hello World' example below runs in different flows of the design-optimize-analyze-execute steps between the IDE and the Python SDK:\n",
    "\n",
    "1. [All in IDE](#all-in-ide)\n",
    "2. [Design (SDK) - Optimize (SDK) - Analyze (IDE) - Execute (SDK)](#design-sdk---optimize-sdk---analyze-ide---execute-sdk)\n",
    "3. [Design (SDK) - Optimize (SDK) - Analyze (IDE) - Execute (IDE)](#design-sdk---optimize-sdk---analyze-ide---execute-ide)\n",
    "\n",
    "The 'Hello World' example calculates the simple arithmetic operation $y=x^2+1$ in a superposition. This example is covered in depth in Classiq 101."
   ]
  },
  {
   "cell_type": "markdown",
   "metadata": {},
   "source": [
    "## All in IDE"
   ]
  },
  {
   "cell_type": "markdown",
   "metadata": {},
   "source": [
    "Copy and paste the following code in the `Model` tab in the IDE, then click `Synthesize` as shown in the GIF:\n",
    "```\n",
    "qfunc main(output x: qnum, output y:qnum){\n",
    "  allocate(4, x);\n",
    "  hadamard_transform(x);\n",
    "  y = x**2+1;\n",
    "}\n",
    "```"
   ]
  },
  {
   "cell_type": "markdown",
   "metadata": {},
   "source": [
    "<div style=\"text-align:center;\">\n",
    "    <img src=\"https://docs.classiq.io/resources/many_worlds_ide_design.gif\" />\n",
    "</div>\n"
   ]
  },
  {
   "cell_type": "markdown",
   "metadata": {},
   "source": [
    "Check that you receive two blocks in the quantum circuit: `hadamard_transform` and `Arithmetic`, then click `Execute`:"
   ]
  },
  {
   "cell_type": "markdown",
   "metadata": {},
   "source": [
    "<div style=\"text-align:center;\">\n",
    "    <img src=\"https://docs.classiq.io/resources/many_worlds_ide_analyze.gif\" />\n",
    "</div>"
   ]
  },
  {
   "cell_type": "markdown",
   "metadata": {},
   "source": [
    "In the `Execution` tab, under the Classiq provider, choose the simulator (and make sure that other options are not selected). Change the job name to 'hello world' and click `Run`:"
   ]
  },
  {
   "cell_type": "markdown",
   "metadata": {},
   "source": [
    "<div style=\"text-align:center;\">\n",
    "    <img src=\"https://docs.classiq.io/resources/many_worlds_ide_execute.gif\" />\n",
    "</div>"
   ]
  },
  {
   "cell_type": "markdown",
   "metadata": {},
   "source": [
    "In the `Jobs` tab, check the results by hovering over the histogram bars and verifying you receive 16 bars. Each bar encapsulates the correct relation between $x$ and $y$; i.e., $y=x^2+1$:"
   ]
  },
  {
   "cell_type": "markdown",
   "metadata": {},
   "source": [
    "<div style=\"text-align:center;\">\n",
    "    <img src=\"https://docs.classiq.io/resources/many_worlds_ide_results.gif\" />\n",
    "</div>"
   ]
  },
  {
   "cell_type": "markdown",
   "metadata": {},
   "source": [
    "That's it! You just completed designing, optimizing, analyzing, and executing your first quantum algorithm with the Classiq IDE."
   ]
  },
  {
   "cell_type": "markdown",
   "metadata": {},
   "source": [
    "## Design (SDK) - Optimize (SDK) - Analyze (IDE) - Execute (SDK)\n"
   ]
  },
  {
   "cell_type": "markdown",
   "metadata": {},
   "source": [
    "Design your hello world quantum algorithm by running the following code in your favorite Python SDK environment (after installing Classiq):"
   ]
  },
  {
   "cell_type": "code",
   "execution_count": 1,
   "metadata": {},
   "outputs": [
    {
     "name": "stderr",
     "output_type": "stream",
     "text": [
      "C:\\Users\\adityayadav76\\.conda\\envs\\qiskit\\Lib\\site-packages\\classiq\\_internals\\authentication\\token_manager.py:101: UserWarning: Device is already registered.\n",
      "Generating a new refresh token should only be done if the current refresh token is compromised.\n",
      "To do so, set the overwrite parameter to true\n",
      "  warnings.warn(\n"
     ]
    }
   ],
   "source": [
    "from classiq import *\n",
    "import classiq\n",
    "classiq.authenticate()\n",
    "from qiskit import QuantumCircuit\n",
    "import sys\n",
    "sys.path.append('../../../../')\n",
    "from AutomatskiKomencoQiskit import *\n",
    "sys.path.append('../../../')\n",
    "from AutomatskiClassiq import *\n",
    "\n",
    "# Run the Circuit using Automatski' Quantum Simulators and Quantum Computers\n",
    "# No need for transpiling with any transpiler\n",
    "backend = AutomatskiKomencoQiskit(host=\"103.212.120.18\", port=80)\n",
    "\n",
    "@qfunc\n",
    "def main(x: Output[QNum], y: Output[QNum]):\n",
    "\n",
    "    allocate(4, x)\n",
    "    hadamard_transform(x)  # creates a uniform superposition\n",
    "    y |= x**2 + 1"
   ]
  },
  {
   "cell_type": "markdown",
   "metadata": {},
   "source": [
    "Optimize your algorithm by running this code from the Python SDK:"
   ]
  },
  {
   "cell_type": "code",
   "execution_count": 2,
   "metadata": {},
   "outputs": [],
   "source": [
    "quantum_program = synthesize(create_model(main))"
   ]
  },
  {
   "cell_type": "markdown",
   "metadata": {},
   "source": [
    "Analyze your quantum circuit in the IDE by running this code in Python and opening the pop-up link:"
   ]
  },
  {
   "cell_type": "code",
   "execution_count": 3,
   "metadata": {},
   "outputs": [
    {
     "name": "stdout",
     "output_type": "stream",
     "text": [
      "Opening: https://platform.classiq.io/circuit/c41fdf59-de9b-4623-bad5-29548d24c60c?version=0.59.0\n"
     ]
    }
   ],
   "source": [
    "show(quantum_program)"
   ]
  },
  {
   "cell_type": "markdown",
   "metadata": {},
   "source": [
    "<div style=\"text-align:center;\">\n",
    "    <img src=\"https://docs.classiq.io/resources/many_worlds_ide_analyze.gif\" />\n",
    "</div>"
   ]
  },
  {
   "cell_type": "markdown",
   "metadata": {},
   "source": [
    "Execute your code in the Python SDK by running this:"
   ]
  },
  {
   "cell_type": "code",
   "execution_count": 4,
   "metadata": {},
   "outputs": [
    {
     "name": "stdout",
     "output_type": "stream",
     "text": [
      "Executing Quantum Circuit With...\n",
      "21 Qubits And ...\n",
      "789 Gates\n",
      "Time Taken 0:00:00.129001\n",
      "There was an error - komenco server capacity breached. Only 15 Qubits supported.\n"
     ]
    },
    {
     "ename": "Exception",
     "evalue": "There was an error - komenco server capacity breached. Only 15 Qubits supported.",
     "output_type": "error",
     "traceback": [
      "\u001b[1;31m---------------------------------------------------------------------------\u001b[0m",
      "\u001b[1;31mException\u001b[0m                                 Traceback (most recent call last)",
      "Cell \u001b[1;32mIn[4], line 8\u001b[0m\n\u001b[0;32m      5\u001b[0m backend \u001b[38;5;241m=\u001b[39m AutomatskiKomencoQiskit(host\u001b[38;5;241m=\u001b[39m\u001b[38;5;124m\"\u001b[39m\u001b[38;5;124m103.212.120.18\u001b[39m\u001b[38;5;124m\"\u001b[39m, port\u001b[38;5;241m=\u001b[39m\u001b[38;5;241m80\u001b[39m)\n\u001b[0;32m      7\u001b[0m \u001b[38;5;66;03m# Run the circuit and get results\u001b[39;00m\n\u001b[1;32m----> 8\u001b[0m result_sim \u001b[38;5;241m=\u001b[39m \u001b[43mbackend\u001b[49m\u001b[38;5;241;43m.\u001b[39;49m\u001b[43mrun\u001b[49m\u001b[43m(\u001b[49m\u001b[43mcircuit\u001b[49m\u001b[43m,\u001b[49m\u001b[43m \u001b[49m\u001b[43mrepetitions\u001b[49m\u001b[38;5;241;43m=\u001b[39;49m\u001b[38;5;241;43m1000\u001b[39;49m\u001b[43m,\u001b[49m\u001b[43m \u001b[49m\u001b[43mtopK\u001b[49m\u001b[38;5;241;43m=\u001b[39;49m\u001b[38;5;241;43m20\u001b[39;49m\u001b[43m)\u001b[49m\n\u001b[0;32m     10\u001b[0m counts \u001b[38;5;241m=\u001b[39m result_sim\u001b[38;5;241m.\u001b[39mget_counts(\u001b[38;5;28;01mNone\u001b[39;00m)\n\u001b[0;32m     11\u001b[0m \u001b[38;5;28mprint\u001b[39m(counts)\n",
      "File \u001b[1;32mD:\\Quantum Simulators\\workspace\\Komenco\\komenco-client-sdk-and-samples\\python\\classiq\\documentation_materials\\classiq_101\\hello_many_worlds\\../../../..\\AutomatskiKomencoQiskit.py:67\u001b[0m, in \u001b[0;36mAutomatskiKomencoQiskit.run\u001b[1;34m(self, circuit, repetitions, topK)\u001b[0m\n\u001b[0;32m     65\u001b[0m \u001b[38;5;28;01mexcept\u001b[39;00m \u001b[38;5;167;01mException\u001b[39;00m \u001b[38;5;28;01mas\u001b[39;00m e:\n\u001b[0;32m     66\u001b[0m     \u001b[38;5;28;01mif\u001b[39;00m cannotProceed:\n\u001b[1;32m---> 67\u001b[0m         \u001b[38;5;28;01mraise\u001b[39;00m e            \n\u001b[0;32m     68\u001b[0m     \u001b[38;5;28;01mpass\u001b[39;00m \n\u001b[0;32m     72\u001b[0m \u001b[38;5;28;01mreturn\u001b[39;00m \u001b[38;5;28mself\u001b[39m\u001b[38;5;241m.\u001b[39mdeserialize_result(struct, repetitions, execution_time)\n",
      "File \u001b[1;32mD:\\Quantum Simulators\\workspace\\Komenco\\komenco-client-sdk-and-samples\\python\\classiq\\documentation_materials\\classiq_101\\hello_many_worlds\\../../../..\\AutomatskiKomencoQiskit.py:64\u001b[0m, in \u001b[0;36mAutomatskiKomencoQiskit.run\u001b[1;34m(self, circuit, repetitions, topK)\u001b[0m\n\u001b[0;32m     62\u001b[0m         \u001b[38;5;28mprint\u001b[39m(struct[\u001b[38;5;124m\"\u001b[39m\u001b[38;5;124merror\u001b[39m\u001b[38;5;124m\"\u001b[39m])\n\u001b[0;32m     63\u001b[0m         cannotProceed \u001b[38;5;241m=\u001b[39m \u001b[38;5;28;01mTrue\u001b[39;00m\n\u001b[1;32m---> 64\u001b[0m         \u001b[38;5;28;01mraise\u001b[39;00m \u001b[38;5;167;01mException\u001b[39;00m(struct[\u001b[38;5;124m\"\u001b[39m\u001b[38;5;124merror\u001b[39m\u001b[38;5;124m\"\u001b[39m])\n\u001b[0;32m     65\u001b[0m \u001b[38;5;28;01mexcept\u001b[39;00m \u001b[38;5;167;01mException\u001b[39;00m \u001b[38;5;28;01mas\u001b[39;00m e:\n\u001b[0;32m     66\u001b[0m     \u001b[38;5;28;01mif\u001b[39;00m cannotProceed:\n",
      "\u001b[1;31mException\u001b[0m: There was an error - komenco server capacity breached. Only 15 Qubits supported."
     ]
    }
   ],
   "source": [
    "circuit = generateQiskitCircuit(quantum_program)\n",
    "\n",
    "# Run the Circuit using Automatski' Quantum Simulators and Quantum Computers\n",
    "# No need for transpiling with any transpiler\n",
    "backend = AutomatskiKomencoQiskit(host=\"103.212.120.18\", port=80)\n",
    "\n",
    "# Run the circuit and get results\n",
    "result_sim = backend.run(circuit, repetitions=1000, topK=20)\n",
    "\n",
    "counts = result_sim.get_counts(None)\n",
    "print(counts)"
   ]
  },
  {
   "cell_type": "markdown",
   "metadata": {},
   "source": [
    "Check that you receive 16 pairs of `{'x': , 'y': }` and that the values indeed follow the connection $y=x^2+1$. \n",
    "\n",
    "That's it! You just completed your first quantum algorithm in the Python SDK."
   ]
  },
  {
   "cell_type": "markdown",
   "metadata": {},
   "source": [
    "## Design (SDK) - Optimize (SDK) - Analyze (IDE) - Execute (IDE)"
   ]
  },
  {
   "cell_type": "markdown",
   "metadata": {},
   "source": [
    "Now, run the same example using a mixed flow of the previous two:\n",
    "\n",
    "Design your hello world quantum algorithm by running this code in your favorite Python SDK environment (after installing Classiq):"
   ]
  },
  {
   "cell_type": "code",
   "execution_count": 5,
   "metadata": {
    "execution": {
     "iopub.execute_input": "2024-05-07T13:26:53.170798Z",
     "iopub.status.busy": "2024-05-07T13:26:53.170113Z",
     "iopub.status.idle": "2024-05-07T13:26:53.175824Z",
     "shell.execute_reply": "2024-05-07T13:26:53.175104Z"
    }
   },
   "outputs": [],
   "source": [
    "from classiq import *\n",
    "\n",
    "\n",
    "@qfunc\n",
    "def main(x: Output[QNum], y: Output[QNum]):\n",
    "\n",
    "    allocate(4, x)\n",
    "    hadamard_transform(x)  # creates a uniform superposition\n",
    "    y |= x**2 + 1"
   ]
  },
  {
   "cell_type": "markdown",
   "metadata": {},
   "source": [
    "Optimize your algorithm by running this code in the Python SDK:"
   ]
  },
  {
   "cell_type": "code",
   "execution_count": 6,
   "metadata": {
    "execution": {
     "iopub.execute_input": "2024-05-07T13:26:53.180567Z",
     "iopub.status.busy": "2024-05-07T13:26:53.179353Z",
     "iopub.status.idle": "2024-05-07T13:26:55.343426Z",
     "shell.execute_reply": "2024-05-07T13:26:55.342788Z"
    }
   },
   "outputs": [],
   "source": [
    "quantum_program = synthesize(create_model(main))"
   ]
  },
  {
   "cell_type": "markdown",
   "metadata": {},
   "source": [
    "Analyze your quantum circuit in the IDE by running this code in Python and opening the pop-up link:"
   ]
  },
  {
   "cell_type": "code",
   "execution_count": 7,
   "metadata": {
    "execution": {
     "iopub.execute_input": "2024-05-07T13:26:55.346589Z",
     "iopub.status.busy": "2024-05-07T13:26:55.346306Z",
     "iopub.status.idle": "2024-05-07T13:26:55.407362Z",
     "shell.execute_reply": "2024-05-07T13:26:55.406729Z"
    }
   },
   "outputs": [
    {
     "name": "stdout",
     "output_type": "stream",
     "text": [
      "Opening: https://platform.classiq.io/circuit/b24ddce6-083a-442c-8640-addf3aa354c7?version=0.41.0.dev39%2B79c8fd0855\n"
     ]
    }
   ],
   "source": [
    "show(quantum_program)"
   ]
  },
  {
   "cell_type": "markdown",
   "metadata": {},
   "source": [
    "<div style=\"text-align:center;\">\n",
    "    <img src=\"https://docs.classiq.io/resources/many_worlds_ide_analyze.gif\" />\n",
    "</div>"
   ]
  },
  {
   "cell_type": "markdown",
   "metadata": {},
   "source": [
    "Check that you receive two blocks in the quantum circuit: `hadamard_transform` and `Arithmetic`, then click `Execute`:"
   ]
  },
  {
   "cell_type": "markdown",
   "metadata": {},
   "source": [
    "<div style=\"text-align:center;\">\n",
    "    <img src=\"https://docs.classiq.io/resources/many_worlds_ide_analyze.gif\" />\n",
    "</div>"
   ]
  },
  {
   "cell_type": "markdown",
   "metadata": {},
   "source": [
    "In the `Execution` tab, under the Classiq provider, choose the simulator (and make sure that other options are not selected). Change the job name to 'hello world' and click `Run`:"
   ]
  },
  {
   "cell_type": "markdown",
   "metadata": {},
   "source": [
    "<div style=\"text-align:center;\">\n",
    "    <img src=\"https://docs.classiq.io/resources/many_worlds_ide_execute.gif\" />\n",
    "</div>"
   ]
  },
  {
   "cell_type": "markdown",
   "metadata": {},
   "source": [
    "In the `Jobs` tab, check the results by hovering over the histogram bars and verifying you receive 16 bars. Each bar encapsulates the correct relation between $x$ and $y$; i.e., $y=x^2+1$:"
   ]
  },
  {
   "cell_type": "markdown",
   "metadata": {},
   "source": [
    "<div style=\"text-align:center;\">\n",
    "    <img src=\"https://docs.classiq.io/resources/many_worlds_ide_results.gif\" />\n",
    "</div>"
   ]
  },
  {
   "cell_type": "markdown",
   "metadata": {},
   "source": [
    "That's it! You just completed the hello world example in a mixed flow of IDE and Python SDK.\n",
    "\n",
    "You are ready to continue with Classiq 101. Enjoy!"
   ]
  },
  {
   "cell_type": "code",
   "execution_count": 8,
   "metadata": {
    "execution": {
     "iopub.execute_input": "2024-05-07T13:26:55.410285Z",
     "iopub.status.busy": "2024-05-07T13:26:55.409830Z",
     "iopub.status.idle": "2024-05-07T13:26:55.420273Z",
     "shell.execute_reply": "2024-05-07T13:26:55.419694Z"
    }
   },
   "outputs": [],
   "source": [
    "write_qmod(create_model(main), \"hello_many_worlds\")"
   ]
  }
 ],
 "metadata": {
  "kernelspec": {
   "display_name": "Python 3 (ipykernel)",
   "language": "python",
   "name": "python3"
  },
  "language_info": {
   "codemirror_mode": {
    "name": "ipython",
    "version": 3
   },
   "file_extension": ".py",
   "mimetype": "text/x-python",
   "name": "python",
   "nbconvert_exporter": "python",
   "pygments_lexer": "ipython3",
   "version": "3.11.0"
  },
  "vscode": {
   "interpreter": {
    "hash": "529b62266d4f537a408698cf820854c65fe877011c7661f0f70aa11c4383fddc"
   }
  }
 },
 "nbformat": 4,
 "nbformat_minor": 4
}
